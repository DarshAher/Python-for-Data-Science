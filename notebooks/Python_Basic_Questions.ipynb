{
  "nbformat": 4,
  "nbformat_minor": 0,
  "metadata": {
    "colab": {
      "provenance": []
    },
    "kernelspec": {
      "name": "python3",
      "display_name": "Python 3"
    },
    "language_info": {
      "name": "python"
    }
  },
  "cells": [
    {
      "cell_type": "markdown",
      "source": [
        "**Write a program to print every character of a string entered by the user in a new line using a loop**"
      ],
      "metadata": {
        "id": "CkXfpmC9Hv3J"
      }
    },
    {
      "cell_type": "code",
      "source": [
        "# Get input from the user\n",
        "user_input = input(\"Enter a string: \")\n",
        "\n",
        "# Print each character of the string in a new line using a loop\n",
        "for char in user_input:\n",
        "    print(char)"
      ],
      "metadata": {
        "colab": {
          "base_uri": "https://localhost:8080/"
        },
        "id": "vA17oDlNHzEh",
        "outputId": "7830e340-9532-4b65-d5c2-27373cfa5e4f"
      },
      "execution_count": null,
      "outputs": [
        {
          "output_type": "stream",
          "name": "stdout",
          "text": [
            "Enter a string: cat eat rat\n",
            "c\n",
            "a\n",
            "t\n",
            " \n",
            "e\n",
            "a\n",
            "t\n",
            " \n",
            "r\n",
            "a\n",
            "t\n"
          ]
        }
      ]
    },
    {
      "cell_type": "markdown",
      "source": [
        "**Write a program to find the length of the string \"machine learning\" with and without using len function**"
      ],
      "metadata": {
        "id": "Z4_KcwbgIBki"
      }
    },
    {
      "cell_type": "code",
      "source": [
        "string = \"machine learning\"\n",
        "length_with_len_function = len(string)\n",
        "\n",
        "print(\"Length using len() function:\", length_with_len_function)"
      ],
      "metadata": {
        "colab": {
          "base_uri": "https://localhost:8080/"
        },
        "id": "iMATxubaHzAk",
        "outputId": "324fde7e-91ab-4b24-891a-0ff93b00c9f4"
      },
      "execution_count": null,
      "outputs": [
        {
          "output_type": "stream",
          "name": "stdout",
          "text": [
            "Length using len() function: 16\n"
          ]
        }
      ]
    },
    {
      "cell_type": "code",
      "source": [
        "# Without using len function:\n",
        "string = \"machine learning\"\n",
        "\n",
        "length_without_len_function = 0\n",
        "\n",
        "for char in string:\n",
        "    length_without_len_function += 1\n",
        "\n",
        "print(\"Length without using len() function:\", length_without_len_function)"
      ],
      "metadata": {
        "colab": {
          "base_uri": "https://localhost:8080/"
        },
        "id": "7wgun_6QHy-g",
        "outputId": "0aa66091-7a6a-4462-88db-e6df7160e0ea"
      },
      "execution_count": null,
      "outputs": [
        {
          "output_type": "stream",
          "name": "stdout",
          "text": [
            "Length without using len() function: 16\n"
          ]
        }
      ]
    },
    {
      "cell_type": "markdown",
      "source": [
        "**Write a program to check if the word 'orange' is present in the \"This is orange juice\".**"
      ],
      "metadata": {
        "id": "09UH4PikImBN"
      }
    },
    {
      "cell_type": "code",
      "source": [
        "sentence = \"This is orange juice\"\n",
        "if 'orange' in sentence:\n",
        "    print(\"The word 'orange' is present in the string.\")\n",
        "else:\n",
        "    print(\"The word 'orange' is not present in the string.\")"
      ],
      "metadata": {
        "colab": {
          "base_uri": "https://localhost:8080/"
        },
        "id": "nTueMhftIkyf",
        "outputId": "92d2c293-52db-4fef-fd0b-3ff2aed32c3f"
      },
      "execution_count": null,
      "outputs": [
        {
          "output_type": "stream",
          "name": "stdout",
          "text": [
            "The word 'orange' is present in the string.\n"
          ]
        }
      ]
    },
    {
      "cell_type": "markdown",
      "source": [
        "**Write a program to find the number of vowels, consonants, digits, and white space characters in a**"
      ],
      "metadata": {
        "id": "GbusCd6qIkTI"
      }
    },
    {
      "cell_type": "code",
      "source": [
        "def count_characters(string):\n",
        "    vowels = 0\n",
        "    consonants = 0\n",
        "    digits = 0\n",
        "    whitespace = 0\n",
        "\n",
        "    for char in string:\n",
        "        if char.lower() in 'aeiou':\n",
        "            vowels += 1\n",
        "        elif char.isalpha():\n",
        "            consonants += 1\n",
        "        elif char.isdigit():\n",
        "            digits += 1\n",
        "        elif char.isspace():\n",
        "            whitespace += 1\n",
        "\n",
        "    return vowels, consonants, digits, whitespace\n",
        "input_string = input(\"Enter a string: \")\n",
        "vowels, consonants, digits, whitespace = count_characters(input_string)\n",
        "print(\"Number of vowels:\", vowels)\n",
        "print(\"Number of consonants:\", consonants)\n",
        "print(\"Number of digits:\", digits)\n",
        "print(\"Number of whitespace characters:\", whitespace)"
      ],
      "metadata": {
        "colab": {
          "base_uri": "https://localhost:8080/"
        },
        "id": "i_DaZIWcJSzo",
        "outputId": "44ebad3e-3af9-4112-fc77-67543079b12a"
      },
      "execution_count": null,
      "outputs": [
        {
          "output_type": "stream",
          "name": "stdout",
          "text": [
            "Enter a string: today is not a good day as it is 42 degree celcius and 28 is what I wish\n",
            "Number of vowels: 22\n",
            "Number of consonants: 29\n",
            "Number of digits: 4\n",
            "Number of whitespace characters: 17\n"
          ]
        }
      ]
    },
    {
      "cell_type": "markdown",
      "source": [
        "**Write a Python program to count Uppercase, Lowercase, special character, and numeric values in a given string.**"
      ],
      "metadata": {
        "id": "Og-TRHewJrM-"
      }
    },
    {
      "cell_type": "code",
      "source": [
        "def count_characters(string):\n",
        "    uppercase = 0\n",
        "    lowercase = 0\n",
        "    special_characters = 0\n",
        "    numeric = 0\n",
        "\n",
        "    for char in string:\n",
        "        if char.isupper():\n",
        "            uppercase += 1\n",
        "        elif char.islower():\n",
        "            lowercase += 1\n",
        "        elif char.isdigit():\n",
        "            numeric += 1\n",
        "        else:\n",
        "            special_characters += 1\n",
        "\n",
        "    return uppercase, lowercase, special_characters, numeric\n",
        "\n",
        "input_string = input(\"Enter a string: \")\n",
        "\n",
        "uppercase, lowercase, special_characters, numeric = count_characters(input_string)\n",
        "print(\"Number of uppercase letters:\", uppercase)\n",
        "print(\"Number of lowercase letters:\", lowercase)\n",
        "print(\"Number of special characters:\", special_characters)\n",
        "print(\"Number of numeric values:\", numeric)\n"
      ],
      "metadata": {
        "colab": {
          "base_uri": "https://localhost:8080/"
        },
        "id": "WNJ0bI21JqUN",
        "outputId": "2210f549-4ea8-41d9-dc6c-236c2f8348af"
      },
      "execution_count": null,
      "outputs": [
        {
          "output_type": "stream",
          "name": "stdout",
          "text": [
            "Enter a string: Speaking at a rally in Rajasthan’s Tonk, Mr. Modi said it is difficult to follow\n",
            "Number of uppercase letters: 5\n",
            "Number of lowercase letters: 58\n",
            "Number of special characters: 17\n",
            "Number of numeric values: 0\n"
          ]
        }
      ]
    },
    {
      "cell_type": "markdown",
      "source": [
        "**Write a program to make a new string with all the consonants deleted from the string \"Hello, have a good day\"**"
      ],
      "metadata": {
        "id": "xRiBzrowKAky"
      }
    },
    {
      "cell_type": "code",
      "source": [
        "def remove_consonants(string):\n",
        "    vowels = \"aeiouAEIOU\"\n",
        "    consonant_removed_string = \"\"\n",
        "\n",
        "    for char in string:\n",
        "        if char.isalpha() and char not in vowels:\n",
        "            continue\n",
        "        consonant_removed_string += char\n",
        "\n",
        "    return consonant_removed_string\n",
        "\n",
        "# Original string\n",
        "original_string = \"Hello, have a good day\"\n",
        "\n",
        "# Call the function to remove consonants\n",
        "new_string = remove_consonants(original_string)\n",
        "\n",
        "# Print the new string\n",
        "print(\"Original string:\", original_string)\n",
        "print(\"New string with consonants removed:\", new_string)"
      ],
      "metadata": {
        "colab": {
          "base_uri": "https://localhost:8080/"
        },
        "id": "zxt7K_VWKGjw",
        "outputId": "2b1cec99-4d5c-4b8d-caee-b92bbd5cba7f"
      },
      "execution_count": null,
      "outputs": [
        {
          "output_type": "stream",
          "name": "stdout",
          "text": [
            "Original string: Hello, have a good day\n",
            "New string with consonants removed: eo, ae a oo a\n"
          ]
        }
      ]
    },
    {
      "cell_type": "markdown",
      "source": [
        "**Write a Python program to remove the nth index character from a non-empty\n",
        "string**"
      ],
      "metadata": {
        "id": "Ln50ge4wwdv4"
      }
    },
    {
      "cell_type": "code",
      "execution_count": null,
      "metadata": {
        "colab": {
          "base_uri": "https://localhost:8080/"
        },
        "id": "kXsLfqqqwZYX",
        "outputId": "a21fd5e9-2dab-4120-d736-db82fced4d3a"
      },
      "outputs": [
        {
          "output_type": "stream",
          "name": "stdout",
          "text": [
            "Enter a string: Darshan is my Name\n",
            "Enter the index of the character to remove: 5\n",
            "String with nth character removed: Darshn is my Name\n"
          ]
        }
      ],
      "source": [
        "def remove_nth_character(string, n):\n",
        "    if n < 0 or n >= len(string):\n",
        "        return \"Invalid index\"\n",
        "\n",
        "    return string[:n] + string[n+1:]\n",
        "\n",
        "# Input string\n",
        "input_string = input(\"Enter a string: \")\n",
        "# Input index to remove\n",
        "index = int(input(\"Enter the index of the character to remove: \"))\n",
        "\n",
        "# Call the function to remove the nth character\n",
        "new_string = remove_nth_character(input_string, index)\n",
        "\n",
        "# Print the new string\n",
        "print(\"String with nth character removed:\", new_string)"
      ]
    },
    {
      "cell_type": "markdown",
      "source": [
        "**Write a Python program to change a given string to a new string where the\n",
        "first and last characters have been exchanged.**"
      ],
      "metadata": {
        "id": "Wlqg38tMyC-Q"
      }
    },
    {
      "cell_type": "code",
      "source": [
        "def swap_first_last(string):\n",
        "    if len(string) < 2:\n",
        "        return string\n",
        "\n",
        "    return string[-1] + string[1:-1] + string[0]\n",
        "\n",
        "# Input string\n",
        "input_string = input(\"Enter a string: \")\n",
        "\n",
        "# Call the function to swap first and last characters\n",
        "new_string = swap_first_last(input_string)\n",
        "\n",
        "# Print the new string\n",
        "print(\"Original string:\", input_string)\n",
        "print(\"String with first and last characters swapped:\", new_string)"
      ],
      "metadata": {
        "colab": {
          "base_uri": "https://localhost:8080/"
        },
        "id": "qeAHiT4hxGj4",
        "outputId": "7397c2a3-c5ec-4323-9681-eb0d6031fc48"
      },
      "execution_count": null,
      "outputs": [
        {
          "output_type": "stream",
          "name": "stdout",
          "text": [
            "Enter a string: Darshan\n",
            "Original string: Darshan\n",
            "String with first and last characters swapped: narshaD\n"
          ]
        }
      ]
    },
    {
      "cell_type": "markdown",
      "source": [
        "**Write a Python program to count the occurrences of each word in a given\n",
        "sentence**"
      ],
      "metadata": {
        "id": "iGIEK9wHyuAg"
      }
    },
    {
      "cell_type": "code",
      "source": [
        "# Input sentence\n",
        "input_sentence = input(\"Enter a sentence: \")\n",
        "\n",
        "# Split the sentence into words\n",
        "words = input_sentence.split()\n",
        "\n",
        "# Count occurrences of each word\n",
        "word_occurrences = {}\n",
        "for word in words:\n",
        "    word_occurrences[word] = word_occurrences.get(word, 0) + 1\n",
        "\n",
        "# Print word occurrences\n",
        "print(\"Word occurrences:\")\n",
        "for word, count in word_occurrences.items():\n",
        "    print(f\"{word}: {count}\")"
      ],
      "metadata": {
        "colab": {
          "base_uri": "https://localhost:8080/"
        },
        "id": "-qazr0Qdyhmt",
        "outputId": "b351707c-d0a3-4319-ea61-d524a77ad665"
      },
      "execution_count": null,
      "outputs": [
        {
          "output_type": "stream",
          "name": "stdout",
          "text": [
            "Enter a sentence: Darshan is my name and I am trying this code\n",
            "Word occurrences:\n",
            "Darshan: 1\n",
            "is: 1\n",
            "my: 1\n",
            "name: 1\n",
            "and: 1\n",
            "I: 1\n",
            "am: 1\n",
            "trying: 1\n",
            "this: 1\n",
            "code: 1\n"
          ]
        }
      ]
    },
    {
      "cell_type": "code",
      "source": [
        "# Input sentence\n",
        "input_sentence = input(\"Enter a sentence: \")\n",
        "\n",
        "# Split the sentence into words\n",
        "words = input_sentence.split()\n",
        "\n",
        "# Count occurrences of each word\n",
        "word_occurrences = {}\n",
        "for word in words:\n",
        "    if word in word_occurrences:\n",
        "        word_occurrences[word] += 1\n",
        "    else:\n",
        "        word_occurrences[word] = 1\n",
        "\n",
        "# Print word occurrences\n",
        "print(\"Word occurrences:\")\n",
        "for word, count in word_occurrences.items():\n",
        "    print(f\"{word}: {count}\")"
      ],
      "metadata": {
        "colab": {
          "base_uri": "https://localhost:8080/"
        },
        "id": "-Qngpfx2zBR6",
        "outputId": "9381b112-47c1-4e87-eb29-54b25075d57e"
      },
      "execution_count": null,
      "outputs": [
        {
          "output_type": "stream",
          "name": "stdout",
          "text": [
            "Enter a sentence: cricket is game and cricket is popular in india\n",
            "Word occurrences:\n",
            "cricket: 2\n",
            "is: 2\n",
            "game: 1\n",
            "and: 1\n",
            "popular: 1\n",
            "in: 1\n",
            "india: 1\n"
          ]
        }
      ]
    },
    {
      "cell_type": "markdown",
      "source": [
        "**How do you count the occurrence of a given character in a string?**"
      ],
      "metadata": {
        "id": "9utbEaNRzhF9"
      }
    },
    {
      "cell_type": "code",
      "source": [
        "# Input string\n",
        "input_string = input(\"Enter a string: \")\n",
        "\n",
        "# Input character to count\n",
        "char_to_count = input(\"Enter a character to count: \")\n",
        "\n",
        "# Initialize counter\n",
        "count = 0\n",
        "\n",
        "# Iterate over each character in the string\n",
        "for char in input_string:\n",
        "    if char == char_to_count:\n",
        "        count += 1\n",
        "\n",
        "# Print the count\n",
        "print(f\"The character '{char_to_count}' occurs {count} times in the string.\")"
      ],
      "metadata": {
        "colab": {
          "base_uri": "https://localhost:8080/"
        },
        "id": "uScfRXLUzXtL",
        "outputId": "03d5bf42-94fc-4079-e83b-ba028a8a6fcd"
      },
      "execution_count": null,
      "outputs": [
        {
          "output_type": "stream",
          "name": "stdout",
          "text": [
            "Enter a string: India is the country with most population\n",
            "Enter a character to count: p\n",
            "The character 'p' occurs 2 times in the string.\n"
          ]
        }
      ]
    },
    {
      "cell_type": "markdown",
      "source": [
        "**Write a program to find last 10 characters of a string?**"
      ],
      "metadata": {
        "id": "S35pvPZv0FX1"
      }
    },
    {
      "cell_type": "code",
      "source": [
        "# Input string\n",
        "input_string = input(\"Enter a string: \")\n",
        "\n",
        "# Find the last 10 characters\n",
        "last_10_characters = input_string[-10:]\n",
        "\n",
        "# Print the last 10 characters\n",
        "print(\"Last 10 characters of the string:\", last_10_characters)"
      ],
      "metadata": {
        "colab": {
          "base_uri": "https://localhost:8080/"
        },
        "id": "x5DxgNmez5tk",
        "outputId": "fbed7f2f-1b4f-4eaa-d614-3e4c134ac1fb"
      },
      "execution_count": null,
      "outputs": [
        {
          "output_type": "stream",
          "name": "stdout",
          "text": [
            "Enter a string: India got independence on 15th Aug\n",
            "Last 10 characters of the string: n 15th Aug\n"
          ]
        }
      ]
    },
    {
      "cell_type": "markdown",
      "source": [
        "**WAP to convert a given string to all uppercase if it contains at least 2\n",
        "uppercase characters in the first 4 characters**"
      ],
      "metadata": {
        "id": "pDrUYFiD0XYY"
      }
    },
    {
      "cell_type": "code",
      "source": [
        "# Input string\n",
        "input_string = input(\"Enter a string: \")\n",
        "\n",
        "# Count uppercase characters in the first four characters\n",
        "uppercase_count = sum(1 for char in input_string[:4] if char.isupper())\n",
        "\n",
        "# Convert to uppercase if condition is met\n",
        "if uppercase_count >= 2:\n",
        "    result_string = input_string.upper()\n",
        "else:\n",
        "    result_string = input_string\n",
        "\n",
        "# Print the result\n",
        "print(\"Result:\", result_string)"
      ],
      "metadata": {
        "id": "APRYNPhb0LYq"
      },
      "execution_count": null,
      "outputs": []
    },
    {
      "cell_type": "code",
      "source": [
        "string = input(\"Enter a string: \")\n",
        "\n",
        "four = 0\n",
        "for i in string[:4]:\n",
        "  if i.isupper() :\n",
        "    four += 1\n",
        "if four >= 2:\n",
        "  return_string = string.upper()\n",
        "else:\n",
        "  return_string = string\n",
        "\n",
        "print(return_string)"
      ],
      "metadata": {
        "colab": {
          "base_uri": "https://localhost:8080/"
        },
        "id": "eaFSAi8i06qN",
        "outputId": "acb91d72-0376-4c12-acf3-179959c553f4"
      },
      "execution_count": null,
      "outputs": [
        {
          "output_type": "stream",
          "name": "stdout",
          "text": [
            "Enter a string: darshan\n",
            "darshan\n"
          ]
        }
      ]
    },
    {
      "cell_type": "markdown",
      "source": [
        "**Write a Python program to remove a newline in Python.**"
      ],
      "metadata": {
        "id": "W9vWNbUY2wH4"
      }
    },
    {
      "cell_type": "code",
      "source": [
        "# Input string with newline\n",
        "input_string = input(\"Enter a string with newline: \")\n",
        "\n",
        "# Remove newline character\n",
        "input_string_without_newline = input_string.replace('\\n', '')\n",
        "\n",
        "# Print the string without newline\n",
        "print(\"String without newline:\", input_string_without_newline)"
      ],
      "metadata": {
        "colab": {
          "base_uri": "https://localhost:8080/"
        },
        "id": "ARfdCda41yk3",
        "outputId": "0fa2fc88-ef75-4a84-8c5d-1d6725566ae6"
      },
      "execution_count": null,
      "outputs": [
        {
          "output_type": "stream",
          "name": "stdout",
          "text": [
            "Enter a string with newline: This program first counts the number of uppercase characters in the first four characters of the input string. Then, it checks if the count is greater than or equal to 2. If the condition is met, it converts the entire string to uppercase using the upper() method; otherwise, it keeps the string unchanged. Finally, it prints out the result.\n",
            "String without newline: This program first counts the number of uppercase characters in the first four characters of the input string. Then, it checks if the count is greater than or equal to 2. If the condition is met, it converts the entire string to uppercase using the upper() method; otherwise, it keeps the string unchanged. Finally, it prints out the result.\n"
          ]
        }
      ]
    },
    {
      "cell_type": "markdown",
      "source": [
        "**Write a Python program to swap commas and dots in a string\n",
        "○ Sample string: \"32.054,23\"\n",
        "○ Expected Output: \"32,054.23\"**"
      ],
      "metadata": {
        "id": "BGoQltQ-3J13"
      }
    },
    {
      "cell_type": "code",
      "source": [
        "input_string = '32.054,23'\n",
        "swapped_string = input_string.replace('.', '|').replace(',', '.').replace('|', ',')\n",
        "swapped_string"
      ],
      "metadata": {
        "colab": {
          "base_uri": "https://localhost:8080/",
          "height": 35
        },
        "id": "EWdViEdw27Ww",
        "outputId": "e42e1705-de84-4b3c-a6df-8db32a7807a3"
      },
      "execution_count": null,
      "outputs": [
        {
          "output_type": "execute_result",
          "data": {
            "text/plain": [
              "'32,054.23'"
            ],
            "application/vnd.google.colaboratory.intrinsic+json": {
              "type": "string"
            }
          },
          "metadata": {},
          "execution_count": 15
        }
      ]
    },
    {
      "cell_type": "markdown",
      "source": [
        "**Write a Python program to find the first repeated character in a given string**"
      ],
      "metadata": {
        "id": "eQMwOb7c30P8"
      }
    },
    {
      "cell_type": "code",
      "source": [
        "# Input string\n",
        "input_string = input(\"Enter a string: \")\n",
        "\n",
        "# Initialize a set to store seen characters\n",
        "seen = set()\n",
        "\n",
        "# Iterate over each character in the string\n",
        "for char in input_string:\n",
        "    # If the character is already in the set, it's the first repeated character\n",
        "    if char in seen:\n",
        "        print(\"First repeated character:\", char)\n",
        "        break\n",
        "    # Otherwise, add the character to the set\n",
        "    seen.add(char)\n",
        "else:\n",
        "    # If no repeated character is found, print a message\n",
        "    print(\"No repeated characters found.\")"
      ],
      "metadata": {
        "colab": {
          "base_uri": "https://localhost:8080/"
        },
        "id": "wBfxAvka3w6V",
        "outputId": "dd1b9ee5-cbdc-4874-e465-6ffa7405fbb0"
      },
      "execution_count": null,
      "outputs": [
        {
          "output_type": "stream",
          "name": "stdout",
          "text": [
            "Enter a string: The variable names are just arbitrary labels, tying together the different parts on the computation. If we change a variable name consistently throughout the code, the computation will work the same.\n",
            "First repeated character: a\n"
          ]
        }
      ]
    },
    {
      "cell_type": "code",
      "source": [
        "# Input string\n",
        "input_string = input(\"Enter a string: \")\n",
        "\n",
        "# Iterate over each character in the string\n",
        "for char in input_string:\n",
        "    # If the character is already in the set, it's the first repeated character\n",
        "    if input_string.count(char) > 1:\n",
        "        print(\"First repeated character:\", char)\n",
        "        break\n",
        "else:\n",
        "    # If no repeated character is found, print a message\n",
        "    print(\"No repeated characters found.\")"
      ],
      "metadata": {
        "colab": {
          "base_uri": "https://localhost:8080/"
        },
        "id": "NcHAt-a94Kik",
        "outputId": "9b62720c-37de-448e-fb87-6e60424bec04"
      },
      "execution_count": null,
      "outputs": [
        {
          "output_type": "stream",
          "name": "stdout",
          "text": [
            "Enter a string: The variable names\n",
            "First repeated character: e\n"
          ]
        }
      ]
    },
    {
      "cell_type": "code",
      "source": [
        "input_string = 'adkrfkjc  sroposldjrjo jwjd'\n",
        "for char in input_string:\n",
        "  if input_string.count(char) > 1:\n",
        "    print(\"First repeated character:\", char)\n",
        "    break"
      ],
      "metadata": {
        "colab": {
          "base_uri": "https://localhost:8080/"
        },
        "id": "Og-hVy6M5pdf",
        "outputId": "ebe7aa92-f70b-49d9-b8ff-c0126eb11b0a"
      },
      "execution_count": null,
      "outputs": [
        {
          "output_type": "stream",
          "name": "stdout",
          "text": [
            "First repeated character: d\n"
          ]
        }
      ]
    },
    {
      "cell_type": "markdown",
      "source": [
        "**Write a Python program to find the second most repeated word in a given\n",
        "string**"
      ],
      "metadata": {
        "id": "231re4YB7SUX"
      }
    },
    {
      "cell_type": "code",
      "source": [
        "input_string = 'the same computation, just using different variable names. What matters in a computation is the structure — which value is used at each spot in the computation, not the words chosen. The variable names are just arbitrary labels, tying together the different parts on the computation. If we change a variable name consistently throughout the code, the computation will work the same. Python is not looking at the variable names and thinking about what those English words mean.That said, though variable names are meaningless to Python, good code uses meaningful variable names to help the programmer keep their ideas straight a they write and edit the code.'\n",
        "\n",
        "words = input_string.split()\n",
        "word_counts = {}\n",
        "for word in words:\n",
        "    word_counts[word] = word_counts.get(word, 0) + 1\n",
        "\n",
        "max_count = max(word_counts.values())\n",
        "second_max_count = max(count for count in word_counts.values() if count != max_count)\n",
        "\n",
        "second_most_repetitive_word = [word for word, count in word_counts.items() if count == second_max_count]\n",
        "\n",
        "print(\"Second most repetitive word(s):\", ', '.join(second_most_repetitive_word))\n"
      ],
      "metadata": {
        "colab": {
          "base_uri": "https://localhost:8080/"
        },
        "id": "GVSPifnJ63ub",
        "outputId": "d5859a1c-9942-42cf-8f89-0be4236b4117"
      },
      "execution_count": null,
      "outputs": [
        {
          "output_type": "stream",
          "name": "stdout",
          "text": [
            "Second most repetitive word(s): variable\n"
          ]
        }
      ]
    },
    {
      "cell_type": "code",
      "source": [
        "# Input string\n",
        "input_string = 'the same computation, just using different variable names. What matters in a computation is the structure — which value is used at each spot in the computation, not the words chosen. The variable names are just arbitrary labels, tying together the different parts on the computation. If we change a variable name consistently throughout the code, the computation will work the same. Python is not looking at the variable names and thinking about what those English words mean.That said, though variable names are meaningless to Python, good code uses meaningful variable names to help the programmer keep their ideas straight a they write and edit the code.'\n",
        "\n",
        "# Split the string into words and count occurrences\n",
        "word_counts = {word: input_string.split().count(word) for word in set(input_string.split())}\n",
        "\n",
        "# Find the second most repetitive word(s)\n",
        "second_most_repetitive_word = [word for word, count in word_counts.items() if count == sorted(set(word_counts.values()))[-2]]\n",
        "\n",
        "# Print the result\n",
        "print(\"Second most repetitive word(s):\", ', '.join(second_most_repetitive_word))\n"
      ],
      "metadata": {
        "colab": {
          "base_uri": "https://localhost:8080/"
        },
        "id": "0ijKRSD98IlB",
        "outputId": "87c43191-33a6-4462-f6b6-b65378ef2027"
      },
      "execution_count": null,
      "outputs": [
        {
          "output_type": "stream",
          "name": "stdout",
          "text": [
            "Second most repetitive word(s): variable\n"
          ]
        }
      ]
    },
    {
      "cell_type": "markdown",
      "source": [
        "**Python program to Count Even and Odd numbers in a string** **bold text**"
      ],
      "metadata": {
        "id": "Szn-GHOE97jo"
      }
    },
    {
      "cell_type": "code",
      "source": [
        "# Input string\n",
        "input_string = input(\"Enter a string: \")\n",
        "\n",
        "# Initialize counters for even and odd numbers\n",
        "even_count = 0\n",
        "odd_count = 0\n",
        "\n",
        "# Iterate over each character in the string\n",
        "for char in input_string:\n",
        "    # Check if the character is a digit and convert it to an integer\n",
        "    if char.isdigit():\n",
        "        num = int(char)\n",
        "        # Check if the number is even or odd\n",
        "        if num % 2 == 0:\n",
        "            even_count += 1\n",
        "        else:\n",
        "            odd_count += 1\n",
        "\n",
        "# Print the counts\n",
        "print(\"Number of even numbers:\", even_count)\n",
        "print(\"Number of odd numbers:\", odd_count)"
      ],
      "metadata": {
        "colab": {
          "base_uri": "https://localhost:8080/"
        },
        "id": "OZ0O4HBJ8ppc",
        "outputId": "2047af15-c24b-43ee-ab8a-7a8d3f080c47"
      },
      "execution_count": null,
      "outputs": [
        {
          "output_type": "stream",
          "name": "stdout",
          "text": [
            "Enter a string: 124568\n",
            "Number of even numbers: 4\n",
            "Number of odd numbers: 2\n"
          ]
        }
      ]
    },
    {
      "cell_type": "markdown",
      "source": [
        "**How do you check if a string contains only digits?**"
      ],
      "metadata": {
        "id": "5rOvf80z-yD1"
      }
    },
    {
      "cell_type": "code",
      "source": [
        "# Input string\n",
        "input_string = input(\"Enter a string: \")\n",
        "\n",
        "# Check if the string contains only digits\n",
        "if input_string.isdigit():\n",
        "    print(\"The string contains only digits.\")\n",
        "else:\n",
        "    print(\"The string does not contain only digits.\")"
      ],
      "metadata": {
        "colab": {
          "base_uri": "https://localhost:8080/"
        },
        "id": "eQkBJirj-iMn",
        "outputId": "6ee037d0-b1e0-4781-ce83-3b5cb79b7943"
      },
      "execution_count": null,
      "outputs": [
        {
          "output_type": "stream",
          "name": "stdout",
          "text": [
            "Enter a string: 54256689\n",
            "The string contains only digits.\n"
          ]
        }
      ]
    },
    {
      "cell_type": "markdown",
      "source": [
        "**How do you remove a given character/word from String?**"
      ],
      "metadata": {
        "id": "ubcKxjjy_EXt"
      }
    },
    {
      "cell_type": "code",
      "source": [
        "original_string = input('Enter the string')\n",
        "character_to_remove = input('Enter the character')\n",
        "new_string = original_string.replace(character_to_remove, \"\")\n",
        "new_string"
      ],
      "metadata": {
        "colab": {
          "base_uri": "https://localhost:8080/",
          "height": 70
        },
        "id": "ZBgWlYTk_AkM",
        "outputId": "6fb184a4-4530-4e7c-9c7d-998d3fbfb498"
      },
      "execution_count": null,
      "outputs": [
        {
          "name": "stdout",
          "output_type": "stream",
          "text": [
            "Enter the stringHow do you remove a given character/word from String?\n",
            "Enter the characteryou\n"
          ]
        },
        {
          "output_type": "execute_result",
          "data": {
            "text/plain": [
              "'How do  remove a given character/word from String?'"
            ],
            "application/vnd.google.colaboratory.intrinsic+json": {
              "type": "string"
            }
          },
          "metadata": {},
          "execution_count": 37
        }
      ]
    },
    {
      "cell_type": "markdown",
      "source": [
        "**Write a Python program to remove the characters which have odd index\n",
        "values of a given string**"
      ],
      "metadata": {
        "id": "cxVnS1tn_0En"
      }
    },
    {
      "cell_type": "code",
      "source": [
        "# Input string\n",
        "input_string = input(\"Enter a string: \")\n",
        "\n",
        "# Remove characters with odd index values\n",
        "result_string = \"\"\n",
        "for index, char in enumerate(input_string):\n",
        "    if index % 2 == 0:\n",
        "        result_string += char\n",
        "\n",
        "# Print the result\n",
        "print(\"String with characters at odd indices removed:\", result_string)"
      ],
      "metadata": {
        "colab": {
          "base_uri": "https://localhost:8080/"
        },
        "id": "JJLC6NDa_m5B",
        "outputId": "8def0f33-37c4-4ad4-fd8f-8fd2c121fa16"
      },
      "execution_count": null,
      "outputs": [
        {
          "output_type": "stream",
          "name": "stdout",
          "text": [
            "Enter a string: String with characters at odd indices removed:\n",
            "String with characters at odd indices removed: Srn ihcaatr todidcsrmvd\n"
          ]
        }
      ]
    },
    {
      "cell_type": "markdown",
      "source": [
        "**Write a Python function to reverses a string if its length is a multiple of 5**"
      ],
      "metadata": {
        "id": "-pD7FlLEBJoV"
      }
    },
    {
      "cell_type": "code",
      "source": [
        "# Input string\n",
        "input_string = input(\"Enter a string: \")\n",
        "\n",
        "# Check if the length of the string is a multiple of 5\n",
        "if len(input_string) % 5 == 0:\n",
        "    # Reverse the string if the length is a multiple of 5\n",
        "    reversed_string = input_string[::-1]\n",
        "    print(\"Reversed string:\", reversed_string)\n",
        "else:\n",
        "    # Print the original string if the length is not a multiple of 5\n",
        "    print(\"String length is not a multiple of 5. Original string:\", input_string)\n"
      ],
      "metadata": {
        "colab": {
          "base_uri": "https://localhost:8080/"
        },
        "id": "cwipI6pvATyj",
        "outputId": "961a3d52-b560-47f6-9510-eb22b6a80e48"
      },
      "execution_count": null,
      "outputs": [
        {
          "output_type": "stream",
          "name": "stdout",
          "text": [
            "Enter a string: Speaking at a rally in Rajasthan’s Tonk, Mr. Modi said it is difficult to follow one’s faith under the party and again accused it of hatching a deep conspiracy to snatch people’s wealth and distribute it among “select” people\n",
            "Reversed string: elpoep ”tceles“ gnoma ti etubirtsid dna htlaew s’elpoep hctans ot ycaripsnoc peed a gnihctah fo ti desucca niaga dna ytrap eht rednu htiaf s’eno wollof ot tluciffid si ti dias idoM .rM ,knoT s’nahtsajaR ni yllar a ta gnikaepS\n"
          ]
        }
      ]
    },
    {
      "cell_type": "markdown",
      "source": [
        "**Write a Python program to format a number with a percentage(0.05 >> 5%)**"
      ],
      "metadata": {
        "id": "0zMCfs8ABxKg"
      }
    },
    {
      "cell_type": "code",
      "source": [
        "# Input number\n",
        "number = float(input(\"Enter a number: \"))\n",
        "\n",
        "# Format the number as a percentage\n",
        "formatted_percentage = \"{:.0%}\".format(number)\n",
        "\n",
        "# Print the formatted percentage\n",
        "print(\"Formatted percentage:\", formatted_percentage)\n"
      ],
      "metadata": {
        "colab": {
          "base_uri": "https://localhost:8080/"
        },
        "id": "hUceb-GkBlGM",
        "outputId": "0618e0ff-582c-4d61-a84d-d6fdb1ce2108"
      },
      "execution_count": null,
      "outputs": [
        {
          "output_type": "stream",
          "name": "stdout",
          "text": [
            "Enter a number: 0.5\n",
            "Formatted percentage: 50%\n"
          ]
        }
      ]
    },
    {
      "cell_type": "markdown",
      "source": [
        "**Write a Python program to reverse words in a string**"
      ],
      "metadata": {
        "id": "7wntH6D1B9YE"
      }
    },
    {
      "cell_type": "code",
      "source": [
        "input_string = input('Enter the string')\n",
        "\n",
        "return_string = input_string[::-1]\n",
        "\n",
        "return_string"
      ],
      "metadata": {
        "colab": {
          "base_uri": "https://localhost:8080/",
          "height": 90
        },
        "id": "Hz39f8llB1dI",
        "outputId": "5d97cd41-7492-45b7-a8ab-bc757f6e7b43"
      },
      "execution_count": null,
      "outputs": [
        {
          "name": "stdout",
          "output_type": "stream",
          "text": [
            "Enter the stringSpeaking at a rally in Rajasthan’s Tonk, Mr. Modi said it is difficult to follow one’s faith under the party and again accused it of hatching a deep conspiracy to snatch people’s wealth and distribute it among “select” people\n"
          ]
        },
        {
          "output_type": "execute_result",
          "data": {
            "text/plain": [
              "'elpoep ”tceles“ gnoma ti etubirtsid dna htlaew s’elpoep hctans ot ycaripsnoc peed a gnihctah fo ti desucca niaga dna ytrap eht rednu htiaf s’eno wollof ot tluciffid si ti dias idoM .rM ,knoT s’nahtsajaR ni yllar a ta gnikaepS'"
            ],
            "application/vnd.google.colaboratory.intrinsic+json": {
              "type": "string"
            }
          },
          "metadata": {},
          "execution_count": 44
        }
      ]
    },
    {
      "cell_type": "markdown",
      "source": [
        "**Write a Python program to swap cases of a given string**"
      ],
      "metadata": {
        "id": "DVGeieecCXdg"
      }
    },
    {
      "cell_type": "code",
      "source": [
        "# Input string\n",
        "input_string = input(\"Enter a string: \")\n",
        "\n",
        "# Swap cases of the string\n",
        "swapped_string = input_string.swapcase()\n",
        "\n",
        "# Print the swapped string\n",
        "print(\"Swapped case string:\", swapped_string)\n"
      ],
      "metadata": {
        "colab": {
          "base_uri": "https://localhost:8080/"
        },
        "id": "W3xAsQ73COq3",
        "outputId": "8cecdf8d-1a0d-4aa6-bf88-9af3d4d14412"
      },
      "execution_count": null,
      "outputs": [
        {
          "output_type": "stream",
          "name": "stdout",
          "text": [
            "Enter a string: Speaking at a rally in Rajasthan’s Tonk, Mr. Modi said it is difficult to follow\n",
            "Swapped case string: sPEAKING AT A RALLY IN rAJASTHAN’S tONK, mR. mODI SAID IT IS DIFFICULT TO FOLLOW\n"
          ]
        }
      ]
    },
    {
      "cell_type": "markdown",
      "source": [
        "**Write a Python program to remove spaces from a given string**"
      ],
      "metadata": {
        "id": "0B6tKIOXCli-"
      }
    },
    {
      "cell_type": "code",
      "source": [
        "input_string = input(\"Enter a string: \")\n",
        "\n",
        "no_spaces_string = input_string.replace(\" \", \"\")\n",
        "\n",
        "print(\"String without spaces:\", no_spaces_string)"
      ],
      "metadata": {
        "colab": {
          "base_uri": "https://localhost:8080/"
        },
        "id": "labvYYBXCg4z",
        "outputId": "69351098-2e82-4580-98c3-5755a685e425"
      },
      "execution_count": null,
      "outputs": [
        {
          "output_type": "stream",
          "name": "stdout",
          "text": [
            "Enter a string: Speaking at a rally in Rajasthan’s Tonk, Mr. Modi said it is difficult to follow\n",
            "String without spaces: SpeakingatarallyinRajasthan’sTonk,Mr.Modisaiditisdifficulttofollow\n"
          ]
        }
      ]
    },
    {
      "cell_type": "markdown",
      "source": [
        "**Write a Python program to remove duplicate characters of a given string**"
      ],
      "metadata": {
        "id": "W3uvEkUEC0EW"
      }
    },
    {
      "cell_type": "code",
      "source": [
        "input_string = input(\"Enter a string: \")\n",
        "\n",
        "unique_chars = \"\"\n",
        "for char in input_string:\n",
        "    if char not in unique_chars:\n",
        "        unique_chars += char\n",
        "\n",
        "print(\"String without duplicate characters:\", unique_chars)"
      ],
      "metadata": {
        "colab": {
          "base_uri": "https://localhost:8080/"
        },
        "id": "Kzc3vpN3Crkr",
        "outputId": "2211ac79-0159-4f3a-dc67-528e2e0754db"
      },
      "execution_count": null,
      "outputs": [
        {
          "output_type": "stream",
          "name": "stdout",
          "text": [
            "Enter a string: Write a Python program to remove duplicate characters of a given string\n",
            "String without duplicate characters: Write aPyhonpgmvdulcsf\n"
          ]
        }
      ]
    },
    {
      "cell_type": "markdown",
      "source": [
        "**Write a Python Program to find the area of a circle**"
      ],
      "metadata": {
        "id": "pPSEWwxiDHWG"
      }
    },
    {
      "cell_type": "code",
      "source": [
        "d = float(input(\"Enter the radius of the circle: \"))\n",
        "r = d/2\n",
        "area = 3.14 * r ** 2\n",
        "\n",
        "print(\"Area of the circle:\", area)"
      ],
      "metadata": {
        "colab": {
          "base_uri": "https://localhost:8080/"
        },
        "id": "G0F-gVIzC98P",
        "outputId": "88c69402-8dd9-416b-d1f9-a7472bddc856"
      },
      "execution_count": null,
      "outputs": [
        {
          "output_type": "stream",
          "name": "stdout",
          "text": [
            "Enter the radius of the circle: 8\n",
            "Area of the circle: 50.24\n"
          ]
        }
      ]
    },
    {
      "cell_type": "markdown",
      "source": [
        "**Python Program to find Sum of squares of first n natural numbers**"
      ],
      "metadata": {
        "id": "nYoljUSDDwB0"
      }
    },
    {
      "cell_type": "code",
      "source": [
        "n = int(input(\"Enter the value of n: \"))\n",
        "\n",
        "sum_of_squares = sum(i ** 2 for i in range(1, n + 1))\n",
        "\n",
        "print(\"Sum of squares of first\", n, \"natural numbers:\", sum_of_squares)"
      ],
      "metadata": {
        "colab": {
          "base_uri": "https://localhost:8080/"
        },
        "id": "wWPdI3THDZXa",
        "outputId": "ac2abe1c-0211-4ff4-dfcd-6a431bf0c931"
      },
      "execution_count": null,
      "outputs": [
        {
          "output_type": "stream",
          "name": "stdout",
          "text": [
            "Enter the value of n: 40\n",
            "Sum of squares of first 40 natural numbers: 22140\n"
          ]
        }
      ]
    },
    {
      "cell_type": "markdown",
      "source": [
        "**Python Program to find cube sum of first n natural numbers**"
      ],
      "metadata": {
        "id": "p6FwTCo0EBgr"
      }
    },
    {
      "cell_type": "code",
      "source": [
        "n = int(input(\"Enter the value of n: \"))\n",
        "cubes_sum = 0\n",
        "for i in range(1, n + 1):\n",
        "    cubes_sum += i ** 3\n",
        "\n",
        "print(cubes_sum)"
      ],
      "metadata": {
        "colab": {
          "base_uri": "https://localhost:8080/"
        },
        "id": "ihJHPAGtD9TL",
        "outputId": "e8c65ec8-0e19-42f0-b759-02b178ed6d51"
      },
      "execution_count": null,
      "outputs": [
        {
          "output_type": "stream",
          "name": "stdout",
          "text": [
            "Enter the value of n: 40\n",
            "672400\n"
          ]
        }
      ]
    },
    {
      "cell_type": "markdown",
      "source": [
        "**Python Program to find simple interest and compound interest**"
      ],
      "metadata": {
        "id": "bjr9kOetEv2F"
      }
    },
    {
      "cell_type": "code",
      "source": [
        "P = float(input('Enter the Principal amountv:'))\n",
        "R = float(input('Enter the Rate of Interest'))\n",
        "T = float(input('Enter the Tenure'))\n",
        "\n",
        "Simple_Interest = P*R*T/100\n",
        "\n",
        "Simple_Interest"
      ],
      "metadata": {
        "colab": {
          "base_uri": "https://localhost:8080/"
        },
        "id": "ikPTMsS_EX4y",
        "outputId": "bfdcb95c-7dc1-426a-954b-47887fed5f63"
      },
      "execution_count": null,
      "outputs": [
        {
          "name": "stdout",
          "output_type": "stream",
          "text": [
            "Enter the Principal amountv:10000\n",
            "Enter the Rate of Interest10\n",
            "Enter the Tenure2\n"
          ]
        },
        {
          "output_type": "execute_result",
          "data": {
            "text/plain": [
              "2000.0"
            ]
          },
          "metadata": {},
          "execution_count": 57
        }
      ]
    },
    {
      "cell_type": "code",
      "source": [
        "P = float(input('Enter the Principal amount: '))\n",
        "R = float(input('Enter the Rate of Interest: '))\n",
        "T = float(input('Enter the Tenure: '))\n",
        "N = float(input('Enter number of compounding periods per unit of time: '))\n",
        "\n",
        "Compound_Interest = P * (1 + (R / N)) ** (N * T)\n",
        "print(\"Compound Interest:\", Compound_Interest)"
      ],
      "metadata": {
        "colab": {
          "base_uri": "https://localhost:8080/"
        },
        "id": "qwwvUhZPFZpI",
        "outputId": "1dd26879-6c5c-42b0-db54-8053d02ec842"
      },
      "execution_count": null,
      "outputs": [
        {
          "output_type": "stream",
          "name": "stdout",
          "text": [
            "Enter the Principal amount: 10000\n",
            "Enter the Rate of Interest: 10\n",
            "Enter the Tenure: 2\n",
            "Enter number of compounding periods per unit of time: 12\n",
            "Compound Interest: 20787125333.598637\n"
          ]
        }
      ]
    },
    {
      "cell_type": "markdown",
      "source": [
        "**Python program to check whether a number is Prime or not**"
      ],
      "metadata": {
        "id": "d6kyAendHFin"
      }
    },
    {
      "cell_type": "code",
      "source": [
        "num = int(input(\"Enter a number: \"))\n",
        "\n",
        "if num > 1:\n",
        "    for i in range(2, int(num**0.5) + 1):\n",
        "        if num % i == 0:\n",
        "            print(num, \"is not a prime number\")\n",
        "            break\n",
        "    else:\n",
        "        print(num, \"is a prime number\")\n",
        "else:\n",
        "    print(num, \"is not a prime number\")"
      ],
      "metadata": {
        "colab": {
          "base_uri": "https://localhost:8080/"
        },
        "id": "r30Df-7gF2y2",
        "outputId": "377bdc8a-cd26-48a8-a9b4-4c7c5fa11131"
      },
      "execution_count": null,
      "outputs": [
        {
          "output_type": "stream",
          "name": "stdout",
          "text": [
            "Enter a number: 45\n",
            "45 is not a prime number\n"
          ]
        }
      ]
    },
    {
      "cell_type": "code",
      "source": [
        "my_list = [1, 2, 3, 4, 5]\n",
        "\n",
        "list(reversed(my_list))"
      ],
      "metadata": {
        "colab": {
          "base_uri": "https://localhost:8080/"
        },
        "id": "KIB0ZWYiTog1",
        "outputId": "cc7a414f-7c85-4239-b1db-56344ddcca25"
      },
      "execution_count": null,
      "outputs": [
        {
          "output_type": "execute_result",
          "data": {
            "text/plain": [
              "[5, 4, 3, 2, 1]"
            ]
          },
          "metadata": {},
          "execution_count": 74
        }
      ]
    },
    {
      "cell_type": "code",
      "source": [
        "my_list.reverse()"
      ],
      "metadata": {
        "id": "NHZ9LkOfTsc1"
      },
      "execution_count": null,
      "outputs": []
    },
    {
      "cell_type": "code",
      "source": [
        "my_list"
      ],
      "metadata": {
        "colab": {
          "base_uri": "https://localhost:8080/"
        },
        "id": "SqLAIuPfT3Pp",
        "outputId": "59d6d422-8c6c-4a62-d032-519a3399ae53"
      },
      "execution_count": null,
      "outputs": [
        {
          "output_type": "execute_result",
          "data": {
            "text/plain": [
              "[5, 4, 3, 2, 1]"
            ]
          },
          "metadata": {},
          "execution_count": 78
        }
      ]
    },
    {
      "cell_type": "code",
      "source": [
        "list_to_check= [4]\n",
        "if not list_to_check:\n",
        "    print(\"Your list is empty\")\n",
        "else:\n",
        "    print(\"Your list is not empty\")\n"
      ],
      "metadata": {
        "colab": {
          "base_uri": "https://localhost:8080/"
        },
        "id": "qd0ZT3AjUBsp",
        "outputId": "91878b69-0172-4e81-9b5c-c7301200bb97"
      },
      "execution_count": null,
      "outputs": [
        {
          "output_type": "stream",
          "name": "stdout",
          "text": [
            "Your list is not empty\n"
          ]
        }
      ]
    },
    {
      "cell_type": "code",
      "source": [
        "my_list.count(1)"
      ],
      "metadata": {
        "colab": {
          "base_uri": "https://localhost:8080/"
        },
        "id": "WJiNKrrYV3Xv",
        "outputId": "d7b181f4-132d-4843-ef08-6034be40511b"
      },
      "execution_count": null,
      "outputs": [
        {
          "output_type": "execute_result",
          "data": {
            "text/plain": [
              "1"
            ]
          },
          "metadata": {},
          "execution_count": 82
        }
      ]
    },
    {
      "cell_type": "code",
      "source": [],
      "metadata": {
        "id": "JaVJEcIlZdP-"
      },
      "execution_count": null,
      "outputs": []
    }
  ]
}