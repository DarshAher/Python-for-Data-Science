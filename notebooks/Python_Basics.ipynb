{
  "nbformat": 4,
  "nbformat_minor": 0,
  "metadata": {
    "colab": {
      "provenance": []
    },
    "kernelspec": {
      "name": "python3",
      "display_name": "Python 3"
    },
    "language_info": {
      "name": "python"
    }
  },
  "cells": [
    {
      "cell_type": "markdown",
      "source": [
        "# Introduction\n",
        "Welcome to Python Basics! Python is a popular high-level programming language known for its readability and versatility. It is widely used in data science, web development, automation, and many other fields. Python's syntax is beginner-friendly, making it a great language for newcomers to programming."
      ],
      "metadata": {
        "id": "VtG37dTF2Wnz"
      }
    },
    {
      "cell_type": "markdown",
      "source": [
        "Topics covered include:\n",
        "* Basic data types in Python (integers, floats, strings, booleans, lists, tuples, sets, dictionaries)\n",
        "* Declaring and using variables; common operators (arithmetic, comparison, logical)\n",
        "* Control flow structures (`if`, `elif`, `else` conditionals; `for` and `while` loops)\n",
        "* Defining and calling functions (with parameters and return values)\n",
        "* Simple real-world examples (temperature conversion, shopping cart price calculator)\n",
        "\n",
        "*Note: This notebook is designed for use in a Jupyter/Colab environment. You can run the code cells below to see outputs and modify them to experiment. Remember to press `Shift+Enter` or click the `\"RUN\"` button to execute a code cell.*"
      ],
      "metadata": {
        "id": "cUPkO-Pj2g90"
      }
    },
    {
      "cell_type": "markdown",
      "source": [
        "# Data Types in Python\n",
        "In programming, data types represent the kind of data you are working with. Python has several built-in data types to represent numbers, text, truth values, and collections of items. Let's explore some fundamental data types in Python:"
      ],
      "metadata": {
        "id": "wI6RpyQY3PtC"
      }
    },
    {
      "cell_type": "markdown",
      "source": [
        "## Numeric Types: Integers and Floats\n",
        "**Integers** (`int`) are whole numbers (positive, negative, or zero) without a fractional part. For example, -3, 0, and 42 are integers. Python integers have unlimited precision, so you can work with very large integers as well.\n",
        "\n",
        "**Floats** (`float`) are numbers with a decimal point (floating-point numbers), e.g. 3.14 or -0.001. They are used to represent real numbers (including fractions). Keep in mind that floating-point numbers are implemented in binary and can sometimes be an approximation of the true value."
      ],
      "metadata": {
        "id": "IvDzv-uu3USZ"
      }
    },
    {
      "cell_type": "markdown",
      "source": [
        "Let's see integers and floats in action:"
      ],
      "metadata": {
        "id": "1m-Jc7fW4ONG"
      }
    },
    {
      "cell_type": "code",
      "execution_count": 1,
      "metadata": {
        "colab": {
          "base_uri": "https://localhost:8080/"
        },
        "id": "0wNGTnZ22O0j",
        "outputId": "d6c8e480-e0af-41b3-abcd-c20e9e36a965"
      },
      "outputs": [
        {
          "output_type": "stream",
          "name": "stdout",
          "text": [
            "5 is of type <class 'int'>\n",
            "2.5 is of type <class 'float'>\n",
            "Sum: 7.5\n",
            "Difference: 2.5\n",
            "Product: 12.5\n",
            "Quotient: 2.0\n"
          ]
        }
      ],
      "source": [
        "# Examples of integers and floats\n",
        "a = 5          # int\n",
        "b = 2.5        # float\n",
        "\n",
        "print(a, \"is of type\", type(a))    # <class 'int'>\n",
        "print(b, \"is of type\", type(b))    # <class 'float'>\n",
        "\n",
        "# Arithmetic with int and float\n",
        "sum_val = a + b\n",
        "print(\"Sum:\", sum_val)            # Sum: 7.5\n",
        "diff = a - b\n",
        "print(\"Difference:\", diff)        # Difference: 2.5\n",
        "product = a * b\n",
        "print(\"Product:\", product)        # Product: 12.5\n",
        "quotient = a / b\n",
        "print(\"Quotient:\", quotient)      # Quotient: 2.0"
      ]
    },
    {
      "cell_type": "markdown",
      "source": [
        "In the code above, we created an integer `a` and a float `b`. We used the `type()` function to verify their types. We also performed basic arithmetic operations (addition, subtraction, multiplication, division) on these numbers. Notice that adding an `int` and a `float` results in a float (`5 + 2.5 = 7.5`).\n",
        "\n",
        "Note: Python supports other numeric types as well, such as complex numbers (for complex arithmetic), but we'll focus on `int` and `float` here for simplicity."
      ],
      "metadata": {
        "id": "kq-bzqqj4V_o"
      }
    },
    {
      "cell_type": "markdown",
      "source": [
        "## Strings (`str`)\n",
        "Strings are sequences of characters used to represent text data. In Python, strings are enclosed in quotes, either single quotes `'...'` or double quotes `\"...\"`. For example, `\"Hello, World!\"` is a string. Strings can contain letters, numbers, symbols, and spaces.\n",
        "\n",
        "You can concatenate (join) strings using the `+` operator, and repeat strings using the `*` operator. Strings are **immutable**, meaning that once created, their content cannot be changed (you can create new strings, but you cannot modify an existing string in place)."
      ],
      "metadata": {
        "id": "xD5VMX8c467C"
      }
    },
    {
      "cell_type": "markdown",
      "source": [
        "Let's see some string examples:"
      ],
      "metadata": {
        "id": "4wnnWVZx5aV9"
      }
    },
    {
      "cell_type": "code",
      "source": [
        "text1 = \"Hello\"\n",
        "text2 = 'World'\n",
        "combined = text1 + \" \" + text2   # Concatenation of strings\n",
        "print(combined)                 # Hello World\n",
        "\n",
        "excitement = \"Woo!\" * 3         # Repeat the string 3 times\n",
        "print(excitement)               # Woo!Woo!Woo!\n",
        "\n",
        "# Accessing characters in a string\n",
        "name = \"Python\"\n",
        "first_char = name[0]\n",
        "print(\"First character:\", first_char)        # First character: P\n",
        "last_char = name[-1]\n",
        "print(\"Last character:\", last_char)          # Last character: n\n",
        "print(\"Length of\", name, \"is\", len(name))    # Length of Python is 6\n"
      ],
      "metadata": {
        "colab": {
          "base_uri": "https://localhost:8080/"
        },
        "id": "BReOiWZm4SNy",
        "outputId": "08520c11-d34f-48dd-addf-928ceb39c6da"
      },
      "execution_count": 2,
      "outputs": [
        {
          "output_type": "stream",
          "name": "stdout",
          "text": [
            "Hello World\n",
            "Woo!Woo!Woo!\n",
            "First character: P\n",
            "Last character: n\n",
            "Length of Python is 6\n"
          ]
        }
      ]
    },
    {
      "cell_type": "markdown",
      "source": [
        "In this example, we concatenated two strings with a space in between to form `\"Hello World\"`. We also repeated a string multiple times. We then accessed characters by index: `name[0]` gives the first character `'P'`, and `name[-1]` gives the last character `'n'`. We used the `len()` function to get the length of the string `\"Python\"`, which is 6 characters.\n"
      ],
      "metadata": {
        "id": "MCYj9-FL5hqc"
      }
    },
    {
      "cell_type": "markdown",
      "source": [
        "## Booleans (`bool`)\n",
        "Booleans represent truth values and can only be either `True` or `False`. Booleans often result from **comparison operations** or logical conditions. In Python, `True` and `False` are reserved keywords.\n",
        "\n",
        "Booleans are very useful in controlling program flow (as we'll see with conditionals and loops). They are actually a subtype of integers in Python (internally `True` is `1` and `False` is `0`), but they behave like distinct logical values."
      ],
      "metadata": {
        "id": "gMw70VPR6ATX"
      }
    },
    {
      "cell_type": "markdown",
      "source": [
        "Examples of booleans:"
      ],
      "metadata": {
        "id": "phh_5TjG6dD0"
      }
    },
    {
      "cell_type": "code",
      "source": [
        "is_raining = False\n",
        "is_sunny = True\n",
        "print(\"is_raining is\", is_raining)   # is_raining is False\n",
        "print(\"is_sunny is\", is_sunny)       # is_sunny is True\n",
        "\n",
        "# Booleans from comparisons:\n",
        "print(5 > 3)   # True, because 5 is greater than 3\n",
        "print(5 < 3)   # False, because 5 is not less than 3\n",
        "print(7 == 7)  # True, 7 is equal to 7\n",
        "print(7 != 7)  # False, 7 is not different from 7"
      ],
      "metadata": {
        "colab": {
          "base_uri": "https://localhost:8080/"
        },
        "id": "A3k93qBZ5dv-",
        "outputId": "bae98ffe-debb-4ab9-a92f-a1237fada2de"
      },
      "execution_count": 3,
      "outputs": [
        {
          "output_type": "stream",
          "name": "stdout",
          "text": [
            "is_raining is False\n",
            "is_sunny is True\n",
            "True\n",
            "False\n",
            "True\n",
            "False\n"
          ]
        }
      ]
    },
    {
      "cell_type": "markdown",
      "source": [
        "In this code, we set two boolean variables and printed them. We also demonstrated how comparison operators (like `>`, `<`, `==`, `!=`) produce boolean results. For instance, `5 > 3` is `True` and `5 < 3` is `False`. We will talk more about these operators in the Operators section."
      ],
      "metadata": {
        "id": "1uR1KjTC6lYy"
      }
    },
    {
      "cell_type": "markdown",
      "source": [
        "## Lists (`list`)\n",
        "Lists are ordered collections of items (elements) enclosed in square brackets `[]`. Lists can contain elements of any type, and the elements can be accessed by their index (position in the list, starting from 0). Lists are **mutable**, meaning you can change, add, or remove elements after the list is created."
      ],
      "metadata": {
        "id": "R0OkyWTH64SZ"
      }
    },
    {
      "cell_type": "markdown",
      "source": [
        "Here are some examples of using lists:"
      ],
      "metadata": {
        "id": "sU00Assj7Dmu"
      }
    },
    {
      "cell_type": "code",
      "source": [
        "# Create a list of numbers\n",
        "numbers = [10, 20, 30, 40, 50]\n",
        "print(\"Numbers:\", numbers)           # Numbers: [10, 20, 30, 40, 50]\n",
        "print(\"First element:\", numbers[0])  # First element: 10\n",
        "print(\"Last element:\", numbers[-1])  # Last element: 50\n",
        "\n",
        "# Lists can contain mixed data types\n",
        "random_list = [1, \"two\", 3.0, True]\n",
        "print(\"Mixed list:\", random_list)    # Mixed list: [1, 'two', 3.0, True]\n",
        "\n",
        "# Modify elements in a list\n",
        "numbers[2] = 99\n",
        "print(\"Modified numbers:\", numbers)  # Modified numbers: [10, 20, 99, 40, 50]\n",
        "\n",
        "# Add elements to a list\n",
        "numbers.append(60)\n",
        "print(\"After appending:\", numbers)   # After appending: [10, 20, 99, 40, 50, 60]\n",
        "\n",
        "# Slice a list (get a sublist)\n",
        "sub_list = numbers[1:4]  # elements from index 1 to 3 (excluding 4)\n",
        "print(\"Slice of list:\", sub_list)    # Slice of list: [20, 99, 40]"
      ],
      "metadata": {
        "colab": {
          "base_uri": "https://localhost:8080/"
        },
        "id": "sEwnmV346bAt",
        "outputId": "23e3ca7c-e7a2-427c-923e-2ad310c1cf71"
      },
      "execution_count": 4,
      "outputs": [
        {
          "output_type": "stream",
          "name": "stdout",
          "text": [
            "Numbers: [10, 20, 30, 40, 50]\n",
            "First element: 10\n",
            "Last element: 50\n",
            "Mixed list: [1, 'two', 3.0, True]\n",
            "Modified numbers: [10, 20, 99, 40, 50]\n",
            "After appending: [10, 20, 99, 40, 50, 60]\n",
            "Slice of list: [20, 99, 40]\n"
          ]
        }
      ]
    },
    {
      "cell_type": "markdown",
      "source": [
        "We created a list of integers and accessed elements by index. We then showed that lists can have mixed types (though typically you'll use the same type for all elements in a list). We modified an element at index 2, changing `30` to `99`. We used `append()` to add a new element to the end of the list. Finally, we demonstrated list slicing: `numbers[1:4]` gives a new list with elements from index 1 up to (but not including) index 4."
      ],
      "metadata": {
        "id": "RxmJnCKU7bAK"
      }
    },
    {
      "cell_type": "markdown",
      "source": [
        "## Tuples (`tuple`)\n",
        "**Tuples** are very similar to lists in that they are ordered collections of elements. The key difference is that tuples are **immutable** – once a tuple is created, its elements cannot be changed. Tuples are defined using parentheses `()` (or simply by separating values with commas). Tuples are often used for fixed collections of items that should not change throughout the program. For example, a pair of coordinates (x, y) can be stored in a tuple."
      ],
      "metadata": {
        "id": "V2AZbniN7oIV"
      }
    },
    {
      "cell_type": "markdown",
      "source": [
        "Example of a tuple:"
      ],
      "metadata": {
        "id": "beH8rgbK714j"
      }
    },
    {
      "cell_type": "code",
      "source": [
        "coordinates = (12.5, 7.8)\n",
        "print(\"Coordinates:\", coordinates)       # Coordinates: (12.5, 7.8)\n",
        "print(\"X coordinate:\", coordinates[0])   # X coordinate: 12.5\n",
        "print(\"Y coordinate:\", coordinates[1])   # Y coordinate: 7.8\n",
        "\n",
        "# Tuples can also be created without parentheses by just using commas\n",
        "values = 1, 2, 3\n",
        "print(\"Tuple values:\", values)           # Tuple values: (1, 2, 3)\n",
        "\n",
        "# Attempting to modify a tuple (will cause an error if uncommented)\n",
        "immutable_tuple = (5, 6, 7)\n",
        "# immutable_tuple[0] = 10  # Uncommenting this line would result in a TypeError"
      ],
      "metadata": {
        "colab": {
          "base_uri": "https://localhost:8080/"
        },
        "id": "XwD_umci7Hx4",
        "outputId": "f4e2dfec-0aa0-4f1e-b6bb-a1d6ed5dbeb6"
      },
      "execution_count": 5,
      "outputs": [
        {
          "output_type": "stream",
          "name": "stdout",
          "text": [
            "Coordinates: (12.5, 7.8)\n",
            "X coordinate: 12.5\n",
            "Y coordinate: 7.8\n",
            "Tuple values: (1, 2, 3)\n"
          ]
        }
      ]
    },
    {
      "cell_type": "markdown",
      "source": [
        "We created a tuple `coordinates` and accessed its elements. We also showed that you can define a tuple by listing values separated by commas (parentheses are optional in that case, but often included for clarity). If you try to modify a tuple (as shown in the commented line), Python will raise a `TypeError` because tuples cannot be changed after creation."
      ],
      "metadata": {
        "id": "h2NeT3qZ77Mo"
      }
    },
    {
      "cell_type": "markdown",
      "source": [
        "## Sets (`set`)\n",
        "Sets are unordered collections of unique elements. They are defined using curly braces `{}` or the `set()` constructor. A set automatically eliminates duplicate values and is useful when you want to store items without any particular order and ensure no duplicates. Sets are mutable (you can add or remove elements), but since they are unordered, they do not support indexing like lists or tuples."
      ],
      "metadata": {
        "id": "gtUoLUDX8C-q"
      }
    },
    {
      "cell_type": "markdown",
      "source": [
        "Example of using a set:"
      ],
      "metadata": {
        "id": "212qbtt68P0D"
      }
    },
    {
      "cell_type": "code",
      "source": [
        "# Define a set of fruits\n",
        "fruits = {\"apple\", \"banana\", \"cherry\", \"apple\"}\n",
        "print(\"Fruits set:\", fruits)    # Fruits set: {'banana', 'apple', 'cherry'}\n",
        "\n",
        "# Note: 'apple' was included twice, but appears only once in the set (no duplicates).\n",
        "\n",
        "# Add and remove elements in a set\n",
        "fruits.add(\"orange\")\n",
        "print(\"After adding orange:\", fruits)   # After adding orange: {'banana', 'apple', 'cherry', 'orange'}\n",
        "fruits.remove(\"banana\")\n",
        "print(\"After removing banana:\", fruits) # After removing banana: {'apple', 'cherry', 'orange'}\n",
        "\n",
        "# Check membership in a set\n",
        "print(\"Is 'apple' in fruits?\", \"apple\" in fruits)   # Is 'apple' in fruits? True\n",
        "print(\"Is 'banana' in fruits?\", \"banana\" in fruits) # Is 'banana' in fruits? False"
      ],
      "metadata": {
        "colab": {
          "base_uri": "https://localhost:8080/"
        },
        "id": "xZWoYBOx74_o",
        "outputId": "e3d92d80-653f-4962-9fee-a4e5d4313ac3"
      },
      "execution_count": 6,
      "outputs": [
        {
          "output_type": "stream",
          "name": "stdout",
          "text": [
            "Fruits set: {'cherry', 'apple', 'banana'}\n",
            "After adding orange: {'orange', 'cherry', 'apple', 'banana'}\n",
            "After removing banana: {'orange', 'cherry', 'apple'}\n",
            "Is 'apple' in fruits? True\n",
            "Is 'banana' in fruits? False\n"
          ]
        }
      ]
    },
    {
      "cell_type": "markdown",
      "source": [
        "We created a set of fruit names. When printing the set, notice that the order may not be the same as the order we added elements (sets are unordered). Also, even though we added `\"apple\"` twice, it only shows up once in the set output, because sets cannot have duplicates. We demonstrated adding an element with `add()`, removing an element with `remove()`, and checking membership with the `in` keyword."
      ],
      "metadata": {
        "id": "X7Tvn_Tk8S34"
      }
    },
    {
      "cell_type": "markdown",
      "source": [
        "## Dictionaries (`dict`)\n",
        "Dictionaries are collections of key-value pairs. Each item in a dictionary has a key and a value. You can use the key to retrieve the corresponding value. Dictionaries are created using curly braces `{key: value, ...}` or the `dict()` constructor, and they are mutable.\n",
        "\n",
        "In a dictionary, keys are typically strings or numbers, and values can be of any type. Keys must be unique and immutable (for example, you can use numbers, strings, or tuples as keys, but not lists or other dictionaries)."
      ],
      "metadata": {
        "id": "M7malNRY8iSW"
      }
    },
    {
      "cell_type": "markdown",
      "source": [
        "Example of a dictionary:"
      ],
      "metadata": {
        "id": "joj1nsI68vvn"
      }
    },
    {
      "cell_type": "code",
      "source": [
        "# Create a dictionary of student ages\n",
        "student_ages = {\"Alice\": 25, \"Bob\": 22, \"Charlie\": 23}\n",
        "print(\"Student ages:\", student_ages)\n",
        "print(\"Alice's age:\", student_ages[\"Alice\"])   # Alice's age: 25\n",
        "\n",
        "# Add a new key-value pair\n",
        "student_ages[\"David\"] = 24\n",
        "print(\"After adding David:\", student_ages)\n",
        "\n",
        "# Modify an existing value\n",
        "student_ages[\"Alice\"] = 26\n",
        "print(\"After updating Alice's age:\", student_ages)\n",
        "\n",
        "# Remove a key-value pair\n",
        "del student_ages[\"Bob\"]\n",
        "print(\"After removing Bob:\", student_ages)"
      ],
      "metadata": {
        "colab": {
          "base_uri": "https://localhost:8080/"
        },
        "id": "NjHC7lRN8LSZ",
        "outputId": "72154ae0-9fd6-45d8-a4a7-600d352e9979"
      },
      "execution_count": 7,
      "outputs": [
        {
          "output_type": "stream",
          "name": "stdout",
          "text": [
            "Student ages: {'Alice': 25, 'Bob': 22, 'Charlie': 23}\n",
            "Alice's age: 25\n",
            "After adding David: {'Alice': 25, 'Bob': 22, 'Charlie': 23, 'David': 24}\n",
            "After updating Alice's age: {'Alice': 26, 'Bob': 22, 'Charlie': 23, 'David': 24}\n",
            "After removing Bob: {'Alice': 26, 'Charlie': 23, 'David': 24}\n"
          ]
        }
      ]
    },
    {
      "cell_type": "markdown",
      "source": [
        "In this example, we created a dictionary where the keys are student names and the values are their ages. We accessed the age of \"Alice\" using the key `\"Alice\"`. We then added a new entry for \"David\", updated Alice's age, and removed Bob's entry using the `del` statement. After each operation, we printed the dictionary to see the changes.\n",
        "\n",
        "**Note**: In Python 3.7 and above, dictionaries maintain the insertion order of keys. However, you should primarily think of dictionaries as unordered collections for older versions of Python or conceptual purposes."
      ],
      "metadata": {
        "id": "NhQi_AGo8ymh"
      }
    },
    {
      "cell_type": "markdown",
      "source": [
        "## Practice Exercises: Data Types\n",
        "Try these exercises to practice what you've learned about data types:\n",
        "1. **List Practice:** Create a list of five different numbers. Then, do the following:\n",
        "Print the list.\n",
        "Access and print the third element (index `2`) of the list.\n",
        "Change the last element of the list to a new value, and print the modified list.\n",
        "2. **Dictionary Practice:** Create a dictionary to store the names and ages of three people. For example, `{\"Alice\": 30, \"Bob\": 25, \"Eve\": 29}`. Then:\n",
        "  * Print the dictionary.\n",
        "  * Retrieve and print the age of one person from the dictionary.\n",
        "  * Add a new person to the dictionary, and print the updated dictionary.\n",
        "3. **Set Practice:** Create a set of several words, with at least one repeated word. Print the set and observe the result. Then:\n",
        "  * Add a new word to the set.\n",
        "  * Remove an existing word from the set.\n",
        "  * Check whether a certain word is `in` the set (using the in operator) and print the result.\n",
        "  \n",
        "Feel free to create new code cells below and try these exercises out."
      ],
      "metadata": {
        "id": "JmqXoM2K9FUM"
      }
    },
    {
      "cell_type": "markdown",
      "source": [
        "## Practice Exercises: Data Types\n",
        "Try these exercises to practice what you've learned about data types:\n",
        "1. **List Practice:** Create a list of five different numbers. Then, do the following:\n",
        "Print the list.\n",
        "Access and print the third element (index `2`) of the list.\n",
        "Change the last element of the list to a new value, and print the modified list.\n",
        "2. **Dictionary Practice:** Create a dictionary to store the names and ages of three people. For example, `{\"Alice\": 30, \"Bob\": 25, \"Eve\": 29}`. Then:\n",
        "    * Print the dictionary.\n",
        "    * Retrieve and print the age of one person from the dictionary.\n",
        "    * Add a new person to the dictionary, and print the updated dictionary.\n",
        "3. **Set Practice:** Create a set of several words, with at least one repeated word. Print the set and observe the result. Then:\n",
        "    * Add a new word to the set.\n",
        "    * Remove an existing word from the set.\n",
        "    * Check whether a certain word is in the set (using the `in` operator) and print the result.\n",
        "\n",
        "Feel free to create new code cells below and try these exercises out."
      ],
      "metadata": {
        "id": "Duk7I5iU_636"
      }
    },
    {
      "cell_type": "markdown",
      "source": [
        "### Variables and Operators\n",
        "In Python, a **variable** is a name that refers to a value. You can imagine a variable as a labeled box that holds some data. Unlike some languages, Python does not require you to declare the type of a variable upfront – the type is inferred from the value you assign to it. You can even reassign a variable to a value of a different type later (though it's good practice to keep the type consistent for a given variable).\n",
        "#### Using Variables\n",
        "To create a variable, simply assign a value to a name using the equals sign `=` (this is called the assignment operator). Variable names can consist of letters, numbers, and underscores, but cannot start with a number. They are case-sensitive (e.g., `Data` and `data` would be different variables)."
      ],
      "metadata": {
        "id": "p0hTZM6oAg3v"
      }
    },
    {
      "cell_type": "markdown",
      "source": [
        " Example of declaring and using variables:"
      ],
      "metadata": {
        "id": "31rtDY5yA9-E"
      }
    },
    {
      "cell_type": "code",
      "source": [
        "x = 10            # assign 10 to x\n",
        "y = 3.5           # assign 3.5 to y\n",
        "name = \"Alice\"    # assign \"Alice\" to name\n",
        "\n",
        "print(x)          # 10\n",
        "print(y)          # 3.5\n",
        "print(name)       # Alice\n",
        "\n",
        "# Variables can be reassigned to new values (even of a different type)\n",
        "x = \"Now I'm a string!\"\n",
        "print(x)          # Now I'm a string!"
      ],
      "metadata": {
        "colab": {
          "base_uri": "https://localhost:8080/"
        },
        "id": "NJ60lhCY8tWJ",
        "outputId": "c70872c4-1fc9-429c-f1ee-93e1d954d0c3"
      },
      "execution_count": 8,
      "outputs": [
        {
          "output_type": "stream",
          "name": "stdout",
          "text": [
            "10\n",
            "3.5\n",
            "Alice\n",
            "Now I'm a string!\n"
          ]
        }
      ]
    },
    {
      "cell_type": "markdown",
      "source": [
        "In this example, we created an integer variable `x`, a float variable `y`, and a string variable `name`. We printed their values. Then we reassigned `x` to a string value. Python allowed this because it is **dynamically-typed** (the type of `x` changed from int to str when we assigned a string to it). However, changing types like that can be confusing, so it's generally better to use variables consistently.\n",
        "\n",
        "**Tip:** It's good practice to choose descriptive variable names so that your code is easier to understand (e.g., use `age = 30` instead of `a = 30`)."
      ],
      "metadata": {
        "id": "ILoqvQITBEpq"
      }
    },
    {
      "cell_type": "markdown",
      "source": [
        "## Arithmetic Operators\n",
        "Python supports the typical arithmetic operators for numerical calculations:\n",
        "  * `+` (addition)\n",
        "  * `-` (subtraction)\n",
        "  * `*` (multiplication)\n",
        "  * `/` (division)\n",
        "  * `//` (integer/floor division)\n",
        "  * `%` (modulus, i.e., remainder of division)\n",
        "  * `**` (exponentiation, e.g., power calculation)"
      ],
      "metadata": {
        "id": "LUbBZ-W0Bep_"
      }
    },
    {
      "cell_type": "markdown",
      "source": [
        "Let's use these operators in examples:"
      ],
      "metadata": {
        "id": "5X1NV1oICDaj"
      }
    },
    {
      "cell_type": "code",
      "source": [
        "a = 15\n",
        "b = 4\n",
        "print(\"a + b =\", a + b)   # a + b = 19\n",
        "print(\"a - b =\", a - b)   # a - b = 11\n",
        "print(\"a * b =\", a * b)   # a * b = 60\n",
        "print(\"a / b =\", a / b)   # a / b = 3.75 (normal division)\n",
        "print(\"a // b =\", a // b) # a // b = 3   (floor division, quotient of 15/4)\n",
        "print(\"a % b =\", a % b)   # a % b = 3    (remainder of 15/4)\n",
        "print(\"a ** b =\", a ** b) # a ** b = 50625 (15 to the power of 4)"
      ],
      "metadata": {
        "colab": {
          "base_uri": "https://localhost:8080/"
        },
        "id": "22pKqEIVBBfK",
        "outputId": "b0fc5513-2dad-4c3b-f119-d476d7e32485"
      },
      "execution_count": 10,
      "outputs": [
        {
          "output_type": "stream",
          "name": "stdout",
          "text": [
            "a + b = 19\n",
            "a - b = 11\n",
            "a * b = 60\n",
            "a / b = 3.75\n",
            "a // b = 3\n",
            "a % b = 3\n",
            "a ** b = 50625\n"
          ]
        }
      ]
    },
    {
      "cell_type": "markdown",
      "source": [
        "Important notes:\n",
        "* **Division (`/`)** always produces a float result (even if the division is even). For example, `8 / 2` will give `4.0`, not `4`.\n",
        "* **Floor division (`//`)** gives the integer quotient without the remainder (it \"floors\" the result). For example, `15 // 4` is `3`.\n",
        "* **Modulus (`%`)** gives the remainder after division. For example, `15 % 4` is `3` (because 4 * 3 = 12, and the remainder to get to 15 is 3).\n",
        "Exponentiation (`**`) is used for powers (e.g., `2 ** 3` is `8`)."
      ],
      "metadata": {
        "id": "q4a3DEG9CLg8"
      }
    },
    {
      "cell_type": "markdown",
      "source": [
        "##Comparison Operators\n",
        "Comparison operators are used to compare two values and result in a boolean (True or False):\n",
        "* `==` : equals (checks if two values are equal)\n",
        "* `!=` : not equals (checks if two values are different)\n",
        "* `>` : greater than\n",
        "* `<` : less than\n",
        "* `>=` : greater than or equal to\n",
        "* `<=` : less than or equal to\n"
      ],
      "metadata": {
        "id": "VGIODKAgC3fH"
      }
    },
    {
      "cell_type": "markdown",
      "source": [
        "Examples of comparison operations:"
      ],
      "metadata": {
        "id": "rhqQE0gsDHgF"
      }
    },
    {
      "cell_type": "code",
      "source": [
        "x = 10\n",
        "y = 7\n",
        "print(\"x == y ?\", x == y)   # False, 10 is not equal to 7\n",
        "print(\"x != y ?\", x != y)   # True, 10 is not equal to 7\n",
        "print(\"x > y  ?\", x > y)    # True, 10 is greater than 7\n",
        "print(\"x < y  ?\", x < y)    # False, 10 is not less than 7\n",
        "print(\"x >= 10?\", x >= 10)  # True, 10 is greater or equal to 10\n",
        "print(\"y <= 7 ?\", y <= 7)   # True, 7 is less or equal to 7"
      ],
      "metadata": {
        "colab": {
          "base_uri": "https://localhost:8080/"
        },
        "id": "LClNbLgGCGg2",
        "outputId": "096d82ac-4b5b-462f-fda6-e36f696c7b2a"
      },
      "execution_count": 11,
      "outputs": [
        {
          "output_type": "stream",
          "name": "stdout",
          "text": [
            "x == y ? False\n",
            "x != y ? True\n",
            "x > y  ? True\n",
            "x < y  ? False\n",
            "x >= 10? True\n",
            "y <= 7 ? True\n"
          ]
        }
      ]
    },
    {
      "cell_type": "markdown",
      "source": [
        "Each of these operations produces a boolean result. For instance, since `x` is 10 and `y` is 7, `x > y` is `True` but `x < y` is `False`. We also see that `x >= 10` is `True` (because x is exactly 10), and `y <= 7` is `True` (because y is exactly 7)."
      ],
      "metadata": {
        "id": "27gDMattDOzJ"
      }
    },
    {
      "cell_type": "markdown",
      "source": [
        "## Logical Operators\n",
        "Logical operators are used to combine boolean values (or expressions) and also result in a boolean. Python has three logical operators:\n",
        "* `and` : True if **both** operands are True\n",
        "* `or` : True if **at least one** operand is True\n",
        "* `not` : True if the operand is False (and vice versa; it inverts the boolean value)\n",
        "\n",
        "These are often used to build complex conditions. For example, checking multiple conditions in an `if` statement."
      ],
      "metadata": {
        "id": "84eMsnlcDj17"
      }
    },
    {
      "cell_type": "markdown",
      "source": [
        "Examples of logical operations:"
      ],
      "metadata": {
        "id": "z_myDMyMD025"
      }
    },
    {
      "cell_type": "code",
      "source": [
        "condition1 = True\n",
        "condition2 = False\n",
        "print(\"condition1 and condition2:\", condition1 and condition2)  # False (because condition2 is False)\n",
        "print(\"condition1 or condition2:\", condition1 or condition2)    # True (because at least one is True)\n",
        "print(\"not condition1:\", not condition1)                        # False (condition1 is True, so not True is False)\n",
        "\n",
        "# Using logical operators with comparison expressions:\n",
        "x = 5\n",
        "print(x > 0 and x < 10)   # True (x is between 0 and 10)\n",
        "print(x < 0 or x == 5)    # True (one of the conditions is True: x == 5)"
      ],
      "metadata": {
        "colab": {
          "base_uri": "https://localhost:8080/"
        },
        "id": "ZKebWns0DK6i",
        "outputId": "fddf7681-365b-4496-816a-7f9013622dd6"
      },
      "execution_count": 12,
      "outputs": [
        {
          "output_type": "stream",
          "name": "stdout",
          "text": [
            "condition1 and condition2: False\n",
            "condition1 or condition2: True\n",
            "not condition1: False\n",
            "True\n",
            "True\n"
          ]
        }
      ]
    },
    {
      "cell_type": "markdown",
      "source": [
        "In this code, we first demonstrated `and`, `or`, and `not` with simple True/False values. Then we used logical operators in combination with comparison operators: for example, `x > 0` and `x < 10` is True only if both conditions are True (which in this case they are, since `x` is 5)."
      ],
      "metadata": {
        "id": "WjbklnPiD508"
      }
    },
    {
      "cell_type": "markdown",
      "source": [
        "### Practice Exercises: Variables and Operators\n",
        "Test your understanding of variables and operators with these exercises:\n",
        "1. **Simple Calculator:** Create two variables `a` and `b`, assign them any numbers you like, and then print out the results of `a + b`, `a - b`, `a * b`, and `a / b`.\n",
        "2. **Rectangle Area:** Suppose you have a rectangle of width 5 and height 3 (store these in variables). Calculate the area of the rectangle (width * height) and print the result.\n",
        "3. **Even or Odd?:** Write a script that defines a variable `num` and assigns an integer to it. Then use the modulus operator `(%)` to check if the number is even or odd. Print `\"even\"` if it's even or `\"odd\"` if it's odd.\n",
        "4. **Range Check:** Define a variable `x` and assign a number to it. Write an expression using comparison and logical operators to check if `x` is between 1 and 100 (inclusive). The expression should print `True` if it is, and `False` otherwise.\n",
        "\n",
        "Try to write and run code for each of these in new cells."
      ],
      "metadata": {
        "id": "FIEUFT7yEHo4"
      }
    },
    {
      "cell_type": "markdown",
      "source": [
        "## Control Flow\n",
        "Control flow structures allow you to direct the order of execution of statements in your program based on conditions and loops. Python uses indentation (whitespace at the beginning of a line) to define code blocks (such as the body of an `if` or the contents of a loop). This is different from some other languages that use braces `{}` to delineate blocks.\n",
        "\n",
        "Let's explore conditional statements and loops in Python."
      ],
      "metadata": {
        "id": "zcPeo-6eFCdS"
      }
    },
    {
      "cell_type": "markdown",
      "source": [
        "### Conditional Statements: `if`, `elif`, `else`\n",
        "Conditional statements allow you to execute certain pieces of code only if specific conditions are met. In Python:\n",
        "  * Use `if` to specify a block of code to run if a condition is True.\n",
        "  * Optionally use `elif` (short for \"else if\") to specify additional conditions to check if the previous ones were False.\n",
        "  * Optionally use `else` to specify a block of code to run if all previous conditions are False.\n",
        "\n",
        "**Important:** The condition expressions must be followed by a colon `:`, and the code block under each `if/elif/else` must be indented (typically by 4 spaces or a tab). Consistent indentation is crucial—Python will give an error if your indentation is inconsistent or incorrect."
      ],
      "metadata": {
        "id": "d1e-z1ulFSal"
      }
    },
    {
      "cell_type": "markdown",
      "source": [
        "Example of using if-elif-else:"
      ],
      "metadata": {
        "id": "t_43aJZEF4Uu"
      }
    },
    {
      "cell_type": "code",
      "source": [
        "temperature = 30  # degrees Celsius\n",
        "if temperature > 30:\n",
        "    print(\"It's hot outside.\")\n",
        "elif temperature < 10:\n",
        "    print(\"It's cold outside.\")\n",
        "else:\n",
        "    print(\"The temperature is moderate.\")"
      ],
      "metadata": {
        "colab": {
          "base_uri": "https://localhost:8080/"
        },
        "id": "k5HbXd7kD3bJ",
        "outputId": "a6bfa1ce-122b-4934-9cea-e8217a03a64e"
      },
      "execution_count": 13,
      "outputs": [
        {
          "output_type": "stream",
          "name": "stdout",
          "text": [
            "The temperature is moderate.\n"
          ]
        }
      ]
    },
    {
      "cell_type": "markdown",
      "source": [
        "In this code, if `temperature` is greater than 30, the first `print` will execute. If not, but `temperature` is less than 10, the `elif` branch executes. If neither condition is met (meaning 10 <= temperature <= 30), the `else` branch executes. Try changing the value of temperature and running the code to see how the output changes."
      ],
      "metadata": {
        "id": "_bCv1MPNF8vd"
      }
    },
    {
      "cell_type": "markdown",
      "source": [
        "Here's another example demonstrating an if-else (with no elif) to check if a number is even or odd:"
      ],
      "metadata": {
        "id": "ISAB1GvNGMSO"
      }
    },
    {
      "cell_type": "code",
      "source": [
        "num = 42\n",
        "if num % 2 == 0:\n",
        "    print(num, \"is even\")\n",
        "else:\n",
        "    print(num, \"is odd\")"
      ],
      "metadata": {
        "colab": {
          "base_uri": "https://localhost:8080/"
        },
        "id": "Q2fWlw_oF6Rf",
        "outputId": "31e50bc2-1218-45a7-9c41-89b7c69825e0"
      },
      "execution_count": 14,
      "outputs": [
        {
          "output_type": "stream",
          "name": "stdout",
          "text": [
            "42 is even\n"
          ]
        }
      ]
    },
    {
      "cell_type": "markdown",
      "source": [
        "The condition `num % 2 == 0` checks if the number has no remainder when divided by 2 (which means it's even). Depending on the result, it prints the appropriate message."
      ],
      "metadata": {
        "id": "lGi4UqvsGR7z"
      }
    },
    {
      "cell_type": "markdown",
      "source": [
        "### `for` Loops\n",
        "A **for loop** is used to iterate over a sequence (such as a list, tuple, string, or range of numbers) and execute a block of code for each element in the sequence. In Python, a `for` loop takes an item from the sequence in each iteration and assigns it to a loop variable that you specify.\n",
        "\n",
        "Commonly, we use `for` loops with the `range()` function when we want to loop a specific number of times. `range(n)` produces a sequence of numbers from 0 up to n-1."
      ],
      "metadata": {
        "id": "98Z6HZiUGvT1"
      }
    },
    {
      "cell_type": "markdown",
      "source": [
        "Examples of for loops:"
      ],
      "metadata": {
        "id": "SzkRL67oHIoq"
      }
    },
    {
      "cell_type": "code",
      "source": [
        "# Example 1: Iterating over a list\n",
        "fruits = [\"apple\", \"banana\", \"cherry\"]\n",
        "for fruit in fruits:\n",
        "    print(\"I love\", fruit)"
      ],
      "metadata": {
        "colab": {
          "base_uri": "https://localhost:8080/"
        },
        "id": "Jj4gWtdQGJw8",
        "outputId": "8a965285-f565-480a-83ea-d8fa8cbf4c60"
      },
      "execution_count": 15,
      "outputs": [
        {
          "output_type": "stream",
          "name": "stdout",
          "text": [
            "I love apple\n",
            "I love banana\n",
            "I love cherry\n"
          ]
        }
      ]
    },
    {
      "cell_type": "markdown",
      "source": [
        "This loop will print each fruit in the list with the phrase \"I love\" in front of it. The variable `fruit` takes each value from the `fruits` list in turn."
      ],
      "metadata": {
        "id": "R1r9ATQeHRSC"
      }
    },
    {
      "cell_type": "code",
      "source": [
        "# Example 2: Using range() in a for loop\n",
        "for i in range(5):\n",
        "    print(\"Index:\", i)"
      ],
      "metadata": {
        "colab": {
          "base_uri": "https://localhost:8080/"
        },
        "id": "dmosFjqdHO3N",
        "outputId": "67a7b4de-05e6-410f-a9fd-261a7ebea7ea"
      },
      "execution_count": 16,
      "outputs": [
        {
          "output_type": "stream",
          "name": "stdout",
          "text": [
            "Index: 0\n",
            "Index: 1\n",
            "Index: 2\n",
            "Index: 3\n",
            "Index: 4\n"
          ]
        }
      ]
    },
    {
      "cell_type": "markdown",
      "source": [
        "In this loop, `range(5)` generates the sequence `0, 1, 2, 3, 4`. The loop variable `i` will take each of these values, and the loop will run 5 times, printing the current index each time."
      ],
      "metadata": {
        "id": "BxC1ANi-HbcP"
      }
    },
    {
      "cell_type": "code",
      "source": [
        "# Example 3: Summing numbers with a for loop\n",
        "total = 0\n",
        "for num in [1, 2, 3, 4, 5]:\n",
        "    total += num  # add each number to total\n",
        "print(\"Sum of 1-5:\", total)  # Sum of 1-5: 15"
      ],
      "metadata": {
        "colab": {
          "base_uri": "https://localhost:8080/"
        },
        "id": "dn9B1qm1HYc7",
        "outputId": "196043c5-3250-4d99-a7e9-0dc4f28b2ad1"
      },
      "execution_count": 17,
      "outputs": [
        {
          "output_type": "stream",
          "name": "stdout",
          "text": [
            "Sum of 1-5: 15\n"
          ]
        }
      ]
    },
    {
      "cell_type": "markdown",
      "source": [
        "Here we initialized `total` to 0, then looped through a list of numbers 1 through 5, adding each number to `total`. After the loop, `total` contains the sum of those numbers."
      ],
      "metadata": {
        "id": "PhRRJxMsHqju"
      }
    },
    {
      "cell_type": "markdown",
      "source": [
        "### `while` Loops\n",
        "A while loop repeats a block of code as long as a condition remains True. It has the form:"
      ],
      "metadata": {
        "id": "AcK5tyXvHytm"
      }
    },
    {
      "cell_type": "code",
      "source": [
        "# while condition:\n",
        "#     # code block"
      ],
      "metadata": {
        "id": "lYyjdqfzHn64"
      },
      "execution_count": 20,
      "outputs": []
    },
    {
      "cell_type": "markdown",
      "source": [
        "The loop will check the condition at the start of each iteration, and if the condition is True, it executes the code block, then repeats. If the condition becomes False, it exits the loop.\n",
        "\n",
        "Be careful to ensure that the condition will eventually become False; otherwise, you'll get an infinite loop (which will make your program run forever until you stop it)."
      ],
      "metadata": {
        "id": "vU7ikVJsH_Jf"
      }
    },
    {
      "cell_type": "markdown",
      "source": [
        "Example of a while loop:"
      ],
      "metadata": {
        "id": "nfWpC4s2IG-C"
      }
    },
    {
      "cell_type": "code",
      "source": [
        "count = 1\n",
        "while count <= 5:\n",
        "    print(\"Count is\", count)\n",
        "    count += 1  # increment count by 1"
      ],
      "metadata": {
        "colab": {
          "base_uri": "https://localhost:8080/"
        },
        "id": "jVXeR1kDH5mD",
        "outputId": "77ef39a2-83e2-4d40-cfc6-c9e724b9f747"
      },
      "execution_count": 19,
      "outputs": [
        {
          "output_type": "stream",
          "name": "stdout",
          "text": [
            "Count is 1\n",
            "Count is 2\n",
            "Count is 3\n",
            "Count is 4\n",
            "Count is 5\n"
          ]
        }
      ]
    },
    {
      "cell_type": "markdown",
      "source": [
        "This loop will print the count from 1 to 5. Here's what happens:\n",
        "* Initially, `count` is 1. The condition `count <= 5` is True, so it enters the loop.\n",
        "* It prints \"Count is 1\", then increments `count` to 2.\n",
        "* The loop condition is checked again; now `count` is 2 (still <= 5), so the loop continues.\n",
        "* This repeats until `count` becomes 6. At that point, `count <= 5` is False, so the loop stops.\n",
        "\n",
        "**Tip:** If you find yourself writing a loop that never ends (infinite loop), use the stop button in your notebook or press `Ctrl+C` in a terminal to interrupt execution."
      ],
      "metadata": {
        "id": "xmYEmXjRIMlf"
      }
    },
    {
      "cell_type": "markdown",
      "source": [
        "### Practice Exercises: Control Flow\n",
        "Use what you've learned about conditionals and loops to solve these problems:\n",
        "1. **Grade Checker:** Write an `if-elif-else` structure that assigns a letter grade based on a numeric score. For example, if `score >= 90` print \"A\", `score >= 80` print \"B\", `score >= 70` print \"C\", `score >= 60` print \"D\", else print \"F\". Try changing the score value to test different branches.\n",
        "2.**Even Numbers with a For Loop:** Use a `for` loop with `range()` to print all even numbers from 2 up to 20 (inclusive).\n",
        "3 . **Countdown with While:** Use a `while` loop to print a countdown from 5 to 1, then print \"Blast off!\" after the loop completes.\n",
        "4. **Sum with While:** Write a while loop to calculate the sum of numbers from 1 to 100. (Hint: Initialize a counter and a total, and increment the counter each loop iteration.)\n",
        "\n",
        "Try writing and executing code for each of these exercises."
      ],
      "metadata": {
        "id": "-PSGmOTBIx1N"
      }
    },
    {
      "cell_type": "markdown",
      "source": [
        "### Functions\n",
        "Functions are reusable blocks of code that perform a specific task. You can **define** a function once and then **call it** (execute it) multiple times with different inputs. Functions help organize code, make it more readable, and avoid repetition.\n",
        "\n",
        "In Python, we define a function using the `def` keyword, followed by the function name and parentheses `()`. Inside the parentheses, we can define parameters (variables that will receive the data passed into the function). The function body is indented and typically contains a return statement to return a result (though functions can also just perform actions without returning anything, in which case they implicitly return `None`)."
      ],
      "metadata": {
        "id": "vo680cqZJlGQ"
      }
    },
    {
      "cell_type": "markdown",
      "source": [
        "The basic syntax is:"
      ],
      "metadata": {
        "id": "GR6vbK7vJ1xy"
      }
    },
    {
      "cell_type": "code",
      "source": [
        "# def function_name(parameter1, parameter2, ...):\n",
        "#     \"\"\"\n",
        "#     Optional docstring (description of function).\n",
        "#     \"\"\"\n",
        "#     # function body\n",
        "#     return value"
      ],
      "metadata": {
        "id": "RlttI2PuIJEh"
      },
      "execution_count": 22,
      "outputs": []
    },
    {
      "cell_type": "markdown",
      "source": [
        "Now let's see some examples of functions:"
      ],
      "metadata": {
        "id": "YVgSKgiVJ9mt"
      }
    },
    {
      "cell_type": "code",
      "source": [
        "# Example 1: A simple function with no parameters that prints a message\n",
        "def greet():\n",
        "    print(\"Hello, welcome!\")\n",
        "\n",
        "greet()  # Calling the function"
      ],
      "metadata": {
        "colab": {
          "base_uri": "https://localhost:8080/"
        },
        "id": "TJEggroCJ37S",
        "outputId": "7ada95fa-9436-45c9-c8c7-0294fc2ab5f9"
      },
      "execution_count": 23,
      "outputs": [
        {
          "output_type": "stream",
          "name": "stdout",
          "text": [
            "Hello, welcome!\n"
          ]
        }
      ]
    },
    {
      "cell_type": "markdown",
      "source": [
        "In this example, we defined a function named `greet` that takes no parameters and simply prints a greeting. When we call `greet()`, it executes the print statement."
      ],
      "metadata": {
        "id": "fIeskrbEKEAI"
      }
    },
    {
      "cell_type": "code",
      "source": [
        "# Example 2: Function with one parameter\n",
        "def greet_person(name):\n",
        "    # name is a parameter that the function will use\n",
        "    print(\"Hello,\", name + \"!\")\n",
        "\n",
        "greet_person(\"Alice\")  # Hello, Alice!\n",
        "greet_person(\"Bob\")    # Hello, Bob!"
      ],
      "metadata": {
        "colab": {
          "base_uri": "https://localhost:8080/"
        },
        "id": "N-GrSihpKBO2",
        "outputId": "4a6d1176-988f-4e5b-f474-a2275b76d03d"
      },
      "execution_count": 24,
      "outputs": [
        {
          "output_type": "stream",
          "name": "stdout",
          "text": [
            "Hello, Alice!\n",
            "Hello, Bob!\n"
          ]
        }
      ]
    },
    {
      "cell_type": "markdown",
      "source": [
        "Here, `greet_person` is a function that takes one parameter `name`. It uses that parameter inside the function to print a personalized greeting. We called the function twice with different arguments (\"Alice\" and \"Bob\")."
      ],
      "metadata": {
        "id": "1sFuwB2cKX3T"
      }
    },
    {
      "cell_type": "code",
      "source": [
        "# Example 3: Function with a return value\n",
        "def add(a, b):\n",
        "    # This function takes two numbers and returns their sum\n",
        "    result = a + b\n",
        "    return result\n",
        "\n",
        "sum_value = add(5, 7)\n",
        "print(\"Sum of 5 and 7 is\", sum_value)  # Sum of 5 and 7 is 12\n",
        "print(\"Sum of 10 and 20 is\", add(10, 20))  # Sum of 10 and 20 is 30"
      ],
      "metadata": {
        "colab": {
          "base_uri": "https://localhost:8080/"
        },
        "id": "XyLvwVyJKKt9",
        "outputId": "774a8167-738f-4c65-a419-cad856c87ca7"
      },
      "execution_count": 26,
      "outputs": [
        {
          "output_type": "stream",
          "name": "stdout",
          "text": [
            "Sum of 5 and 7 is 12\n",
            "Sum of 10 and 20 is 30\n"
          ]
        }
      ]
    },
    {
      "cell_type": "markdown",
      "source": [
        "In `add(a, b)`, we take two parameters, add them, and use `return` to send back the result. We can then store that result in a variable (like `sum_value`) or use it directly in an expression or print statement. The second print demonstrates calling `add(10, 20)` directly inside the print function."
      ],
      "metadata": {
        "id": "VIUJSgJbK4o7"
      }
    },
    {
      "cell_type": "markdown",
      "source": [
        "### Why use functions?\n",
        "* **Reusability**: Write once, use multiple times. If you need to perform a task in multiple places, putting it in a function avoids repeating code.\n",
        "* **Organization**: Functions help break a program into smaller, logical pieces. Each function can do a clear, specific thing, making the code easier to understand.\n",
        "* **Maintainability**: If something needs to change (e.g., a formula), you only have to update it in the function rather than in many places in your code.\n"
      ],
      "metadata": {
        "id": "SDspT3MRLJj2"
      }
    },
    {
      "cell_type": "markdown",
      "source": [
        "Now, let's use functions in some real-world style examples."
      ],
      "metadata": {
        "id": "O-_sRpNULV_T"
      }
    },
    {
      "cell_type": "markdown",
      "source": [
        "## Real-World Examples\n",
        "The following examples demonstrate how you can apply the basics you've learned to simple real-world problems.\n",
        "### Example: Temperature Conversion\n",
        "Suppose you want to convert temperatures from Celsius to Fahrenheit. The formula for conversion is:\n",
        "Fahrenheit=9/5 × Celsius +32\n",
        "\n",
        "We can write a function to do this conversion for us."
      ],
      "metadata": {
        "id": "4ft8psnALZu0"
      }
    },
    {
      "cell_type": "code",
      "source": [
        "def celsius_to_fahrenheit(celsius):\n",
        "    \"\"\"Convert Celsius to Fahrenheit.\"\"\"\n",
        "    return (celsius * 9/5) + 32\n",
        "\n",
        "# Test the function with a few values\n",
        "print(\"0°C in Fahrenheit is:\", celsius_to_fahrenheit(0))     # 32.0\n",
        "print(\"37°C in Fahrenheit is:\", celsius_to_fahrenheit(37))   # 98.6\n",
        "print(\"100°C in Fahrenheit is:\", celsius_to_fahrenheit(100)) # 212.0"
      ],
      "metadata": {
        "colab": {
          "base_uri": "https://localhost:8080/"
        },
        "id": "LHVG38urKpFw",
        "outputId": "51729648-71cd-48ae-f643-2f3c9ed70fa5"
      },
      "execution_count": 27,
      "outputs": [
        {
          "output_type": "stream",
          "name": "stdout",
          "text": [
            "0°C in Fahrenheit is: 32.0\n",
            "37°C in Fahrenheit is: 98.6\n",
            "100°C in Fahrenheit is: 212.0\n"
          ]
        }
      ]
    },
    {
      "cell_type": "markdown",
      "source": [
        "We defined a function `celsius_to_fahrenheit` that takes a Celsius temperature and returns the equivalent Fahrenheit temperature. We then tested the function with a few values: 0°C (freezing point of water, which is 32°F), 37°C (about human body temperature, ~98.6°F), and 100°C (boiling point of water, 212°F). Using functions like this makes our code cleaner and more modular. If we need to convert many temperatures, we can just call this function for each value instead of writing the formula repeatedly."
      ],
      "metadata": {
        "id": "rIJZDu5_L8O9"
      }
    },
    {
      "cell_type": "markdown",
      "source": [
        "### Example: Shopping Cart Price Calculator\n",
        "Imagine an online shopping scenario where you have a list of items in your cart and you want to calculate the total price. We can use a dictionary to store the prices of each item, and a list to represent the shopping cart (as a list of items purchased). Then, we can use a loop to calculate the total cost."
      ],
      "metadata": {
        "id": "on-5PLM-MCIe"
      }
    },
    {
      "cell_type": "code",
      "source": [
        "# Price list for items (dictionary of item: price)\n",
        "prices = {\n",
        "    \"apple\": 0.5,\n",
        "    \"banana\": 0.25,\n",
        "    \"milk\": 2.5,\n",
        "    \"bread\": 1.5\n",
        "}\n",
        "\n",
        "# Shopping cart (list of items we want to buy)\n",
        "cart = [\"apple\", \"apple\", \"bread\", \"milk\"]\n",
        "\n",
        "# Calculate total cost\n",
        "total_cost = 0\n",
        "for item in cart:\n",
        "    # Add the price of each item in the cart to total_cost\n",
        "    total_cost += prices[item]\n",
        "print(\"Cart items:\", cart)\n",
        "print(\"Total cost: $\" + str(total_cost))"
      ],
      "metadata": {
        "colab": {
          "base_uri": "https://localhost:8080/"
        },
        "id": "X80JlqRpL4v8",
        "outputId": "6870c0c5-5d7a-4c63-e95e-6fc4c79f06df"
      },
      "execution_count": 28,
      "outputs": [
        {
          "output_type": "stream",
          "name": "stdout",
          "text": [
            "Cart items: ['apple', 'apple', 'bread', 'milk']\n",
            "Total cost: $5.0\n"
          ]
        }
      ]
    },
    {
      "cell_type": "markdown",
      "source": [
        "In this code:\n",
        "* We defined a dictionary `prices` that holds the price of each item.\n",
        "* We defined a list `cart` with some items (in this case, 2 apples, 1 bread, and 1 milk).\n",
        "* We then looped through each item in the cart, looked up its `price` in the prices dictionary, and added that to `total_cost`.\n",
        "* Finally, we printed out the items in the cart and the total cost.\n",
        "\n",
        "If you run this code, you should see that the total cost for `[\"apple\", \"apple\", \"bread\", \"milk\"]` is the sum of the prices: two apples ($0.5 each) + one bread ($1.5) + one milk ($2.5) = $0.5 + $0.5 + $1.5 + $2.5 = $5.0.\n",
        "\n",
        "This simple example shows how dictionaries and lists can work together in a practical task. In a real application, you might generate the cart list from user input or a database, and you might have many more items and more complex logic (tax, discounts, etc.), but the basic idea of summing up prices remains the same."
      ],
      "metadata": {
        "id": "pZqb0Kh_MKwR"
      }
    },
    {
      "cell_type": "markdown",
      "source": [
        "### Practice Exercises: Functions\n",
        "Now that you've seen how to define and use functions, try writing your own:\n",
        "\n",
        "1. **Circle Area Function:** Write a function `calculate_area(radius)` that takes the radius of a circle and returns the area of the circle. (Assume π = 3.14159 or use the `math` module's `math.pi` value for more precision.) Then, call your function with different radii to test it (e.g., radius 1, 5, 10).\n",
        "2. **Maximum of Three:** Write a function `max_of_three(a, b, c)` that returns the largest of three numbers. Try calling it with various inputs to ensure it works for all cases.\n",
        "3. **Odd or Even Function:** Write a function `is_even(number)` that returns `True` if the given number is even and `False` if it is odd. (Hint: use the modulus operator %). Test your function with both even and odd numbers.\n",
        "4. **List Sum Function:** (Challenge) Write a function `sum_list(numbers)` that takes a list of numbers and returns the sum of those numbers. Try it with a few examples, and perhaps compare with Python's built-in `sum()` function for verification."
      ],
      "metadata": {
        "id": "VAKjT2IINMIz"
      }
    },
    {
      "cell_type": "markdown",
      "source": [
        "## **Conclusion**\n",
        "In this notebook, we covered the basics of Python programming, including data types, variables, operators, control flow, and functions. These fundamentals are the building blocks of writing any Python program. By practicing the concepts and exercises provided, you should now be able to write simple scripts and functions on your own. This is just the beginning of your Python journey. With a solid grasp of the basics, you're ready to explore more advanced topics like working with libraries for data science (NumPy, pandas, etc.), data visualization, and more. Keep experimenting and happy coding!"
      ],
      "metadata": {
        "id": "J1CleiyFOPrU"
      }
    }
  ]
}